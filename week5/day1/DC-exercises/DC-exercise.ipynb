{
 "cells": [
  {
   "cell_type": "code",
   "execution_count": 4,
   "id": "953e25d5",
   "metadata": {},
   "outputs": [],
   "source": [
    "import numpy as np"
   ]
  },
  {
   "cell_type": "markdown",
   "id": "337ddc5b",
   "metadata": {},
   "source": [
    "### 1"
   ]
  },
  {
   "cell_type": "code",
   "execution_count": 5,
   "id": "ac5d05e5",
   "metadata": {
    "scrolled": true
   },
   "outputs": [
    {
     "data": {
      "text/plain": [
       "array([[44, 33, 52, 22, 36],\n",
       "       [44, 33, 62, 72, 16],\n",
       "       [49, 45, 92, 11, 56],\n",
       "       [81, 82,  1,  3, 48],\n",
       "       [18, 90, 29, 10, 71]])"
      ]
     },
     "execution_count": 5,
     "metadata": {},
     "output_type": "execute_result"
    }
   ],
   "source": [
    "data = np.array(np.random.randint(1, 100, size=25)).reshape(5, 5)\n",
    "data"
   ]
  },
  {
   "cell_type": "code",
   "execution_count": 6,
   "id": "31e5b0e3",
   "metadata": {},
   "outputs": [
    {
     "data": {
      "text/plain": [
       "array([[44, 33, 52, 22, 36],\n",
       "       [81, 82,  1,  3, 48],\n",
       "       [49, 45, 92, 11, 56],\n",
       "       [44, 33, 62, 72, 16],\n",
       "       [18, 90, 29, 10, 71]])"
      ]
     },
     "execution_count": 6,
     "metadata": {},
     "output_type": "execute_result"
    }
   ],
   "source": [
    "data[[1, 3], :] = data[[3, 1], :]\n",
    "data"
   ]
  },
  {
   "cell_type": "markdown",
   "id": "0c3d3425",
   "metadata": {},
   "source": [
    "### 2"
   ]
  },
  {
   "cell_type": "code",
   "execution_count": 7,
   "id": "b1ad8a31",
   "metadata": {},
   "outputs": [
    {
     "data": {
      "text/plain": [
       "array([[36, 28, 55, 40, 17],\n",
       "       [49, 77, 65, 79, 55],\n",
       "       [ 2, 38, 77, 57, 66],\n",
       "       [40, 97, 94, 77, 55],\n",
       "       [42, 33, 52,  8, 41]])"
      ]
     },
     "execution_count": 7,
     "metadata": {},
     "output_type": "execute_result"
    }
   ],
   "source": [
    "data = np.array(np.random.randint(1, 100, size=25)).reshape(5, 5)\n",
    "data"
   ]
  },
  {
   "cell_type": "code",
   "execution_count": 9,
   "id": "38a3fc54",
   "metadata": {},
   "outputs": [
    {
     "data": {
      "text/plain": [
       "array([[0.35789474, 0.27368421, 0.55789474, 0.4       , 0.15789474],\n",
       "       [0.49473684, 0.78947368, 0.66315789, 0.81052632, 0.55789474],\n",
       "       [0.        , 0.37894737, 0.78947368, 0.57894737, 0.67368421],\n",
       "       [0.4       , 1.        , 0.96842105, 0.78947368, 0.55789474],\n",
       "       [0.42105263, 0.32631579, 0.52631579, 0.06315789, 0.41052632]])"
      ]
     },
     "execution_count": 9,
     "metadata": {},
     "output_type": "execute_result"
    }
   ],
   "source": [
    "normalized_data = (data - np.min(data)) / (np.max(data) - np.min(data))\n",
    "normalized_data"
   ]
  },
  {
   "cell_type": "markdown",
   "id": "6eb3712e",
   "metadata": {},
   "source": [
    "### 3"
   ]
  },
  {
   "cell_type": "code",
   "execution_count": 10,
   "id": "13a89ca2",
   "metadata": {},
   "outputs": [
    {
     "data": {
      "text/plain": [
       "array([[-0.63417064, -0.96794466,  0.15854266, -0.46728363, -1.42688394],\n",
       "       [-0.09178786,  1.07642122,  0.57576019,  1.15986472,  0.15854266],\n",
       "       [-2.05271023, -0.55072713,  1.07642122,  0.24198616,  0.61748194],\n",
       "       [-0.46728363,  1.91085627,  1.78569101,  1.07642122,  0.15854266],\n",
       "       [-0.38384012, -0.7593359 ,  0.0333774 , -1.80237971, -0.42556188]])"
      ]
     },
     "execution_count": 10,
     "metadata": {},
     "output_type": "execute_result"
    }
   ],
   "source": [
    "z_score_data = (data - np.mean(data)) / np.std(data)\n",
    "z_score_data"
   ]
  },
  {
   "cell_type": "markdown",
   "id": "a524c46a",
   "metadata": {},
   "source": [
    "### 4"
   ]
  },
  {
   "cell_type": "code",
   "execution_count": 16,
   "id": "55faab4a",
   "metadata": {},
   "outputs": [
    {
     "data": {
      "text/plain": [
       "array([[44, 86, 66, 45,  9],\n",
       "       [15,  8,  8, 68, 46],\n",
       "       [76, 12, 28, 46, 45],\n",
       "       [16, 22, 59, 41, 80],\n",
       "       [92, 12, 99, 24, 82]])"
      ]
     },
     "execution_count": 16,
     "metadata": {},
     "output_type": "execute_result"
    }
   ],
   "source": [
    "data = np.array(np.random.randint(1, 100, size=25)).reshape(5, 5)\n",
    "data"
   ]
  },
  {
   "cell_type": "code",
   "execution_count": 15,
   "id": "a3663b3e",
   "metadata": {},
   "outputs": [
    {
     "data": {
      "text/plain": [
       "array([36, 28, 55, 40, 17, 49, 77, 65, 79, 55,  2, 38, 77, 57, 66, 40, 97,\n",
       "       94, 77, 55, 42, 33, 52,  8, 41])"
      ]
     },
     "execution_count": 15,
     "metadata": {},
     "output_type": "execute_result"
    }
   ],
   "source": [
    "vectorized_data = np.ravel(data)\n",
    "vectorized_data"
   ]
  },
  {
   "cell_type": "code",
   "execution_count": 14,
   "id": "c2d5bf7c",
   "metadata": {},
   "outputs": [
    {
     "data": {
      "text/plain": [
       "[array([36, 28, 55, 40, 17]),\n",
       " array([49, 77, 65, 79, 55]),\n",
       " array([ 2, 38, 77, 57, 66]),\n",
       " array([40, 97, 94, 77, 55]),\n",
       " array([42, 33, 52,  8, 41])]"
      ]
     },
     "execution_count": 14,
     "metadata": {},
     "output_type": "execute_result"
    }
   ],
   "source": [
    "sub_arrays = np.array_split(vectorized_data, 5)\n",
    "sub_arrays"
   ]
  },
  {
   "cell_type": "markdown",
   "id": "ec9e1e43",
   "metadata": {},
   "source": [
    "### 5"
   ]
  },
  {
   "cell_type": "code",
   "execution_count": 18,
   "id": "af7aec2e",
   "metadata": {},
   "outputs": [
    {
     "data": {
      "text/plain": [
       "array([3, 5, 6, 7, 8])"
      ]
     },
     "execution_count": 18,
     "metadata": {},
     "output_type": "execute_result"
    }
   ],
   "source": [
    "vector1 = np.array([3, 5, 6, 7, 8])\n",
    "vector1"
   ]
  },
  {
   "cell_type": "code",
   "execution_count": 19,
   "id": "f10b9a34",
   "metadata": {},
   "outputs": [
    {
     "data": {
      "text/plain": [
       "array([ 2,  4,  6,  8, 10])"
      ]
     },
     "execution_count": 19,
     "metadata": {},
     "output_type": "execute_result"
    }
   ],
   "source": [
    "vector2 = np.array([2, 4, 6, 8, 10])\n",
    "vector2"
   ]
  },
  {
   "cell_type": "code",
   "execution_count": 21,
   "id": "9c6399d9",
   "metadata": {},
   "outputs": [
    {
     "data": {
      "text/plain": [
       "198"
      ]
     },
     "execution_count": 21,
     "metadata": {},
     "output_type": "execute_result"
    }
   ],
   "source": [
    "dot_product_result = np.dot(vector1, vector2)\n",
    "dot_product_result"
   ]
  },
  {
   "cell_type": "markdown",
   "id": "a7760da2",
   "metadata": {},
   "source": [
    "### 6"
   ]
  },
  {
   "cell_type": "code",
   "execution_count": 25,
   "id": "7c6ff46d",
   "metadata": {},
   "outputs": [
    {
     "data": {
      "text/plain": [
       "array([[27, 22, 24],\n",
       "       [ 6, 21,  8],\n",
       "       [25, 10,  4]])"
      ]
     },
     "execution_count": 25,
     "metadata": {},
     "output_type": "execute_result"
    }
   ],
   "source": [
    "data1 = np.array(np.random.randint(1, 30, size=9)).reshape(3, 3)\n",
    "data1"
   ]
  },
  {
   "cell_type": "code",
   "execution_count": 26,
   "id": "368b99bf",
   "metadata": {},
   "outputs": [
    {
     "data": {
      "text/plain": [
       "array([[12, 17,  4],\n",
       "       [14, 10, 25],\n",
       "       [12, 22,  8]])"
      ]
     },
     "execution_count": 26,
     "metadata": {},
     "output_type": "execute_result"
    }
   ],
   "source": [
    "data2 = np.array(np.random.randint(1, 30, size=9)).reshape(3, 3)\n",
    "data2"
   ]
  },
  {
   "cell_type": "code",
   "execution_count": 28,
   "id": "0ea66802",
   "metadata": {},
   "outputs": [
    {
     "data": {
      "text/plain": [
       "array([[ 920, 1207,  850],\n",
       "       [ 462,  488,  613],\n",
       "       [ 488,  613,  382]])"
      ]
     },
     "execution_count": 28,
     "metadata": {},
     "output_type": "execute_result"
    }
   ],
   "source": [
    "result_data = np.dot(data1, data2)\n",
    "result_data"
   ]
  },
  {
   "cell_type": "markdown",
   "id": "c377dcf7",
   "metadata": {},
   "source": [
    "### 7"
   ]
  },
  {
   "cell_type": "code",
   "execution_count": 31,
   "id": "9849658a",
   "metadata": {},
   "outputs": [
    {
     "data": {
      "text/plain": [
       "array([[1., 0., 0.],\n",
       "       [0., 1., 0.],\n",
       "       [0., 0., 1.]])"
      ]
     },
     "execution_count": 31,
     "metadata": {},
     "output_type": "execute_result"
    }
   ],
   "source": [
    "identity_matrix = np.eye(3)\n",
    "identity_matrix "
   ]
  },
  {
   "cell_type": "code",
   "execution_count": 32,
   "id": "90f8ed5b",
   "metadata": {},
   "outputs": [
    {
     "data": {
      "text/plain": [
       "array([[2., 0., 0.],\n",
       "       [0., 2., 0.],\n",
       "       [0., 0., 2.]])"
      ]
     },
     "execution_count": 32,
     "metadata": {},
     "output_type": "execute_result"
    }
   ],
   "source": [
    "scaled_matrix = 2 * identity_matrix\n",
    "scaled_matrix"
   ]
  },
  {
   "cell_type": "code",
   "execution_count": 33,
   "id": "a92da212",
   "metadata": {},
   "outputs": [
    {
     "data": {
      "text/plain": [
       "array([[0.5, 0. , 0. ],\n",
       "       [0. , 0.5, 0. ],\n",
       "       [0. , 0. , 0.5]])"
      ]
     },
     "execution_count": 33,
     "metadata": {},
     "output_type": "execute_result"
    }
   ],
   "source": [
    "inverse_matrix = np.linalg.inv(scaled_matrix)\n",
    "inverse_matrix"
   ]
  },
  {
   "cell_type": "markdown",
   "id": "a1e4668b",
   "metadata": {},
   "source": [
    "### 8"
   ]
  },
  {
   "cell_type": "code",
   "execution_count": 36,
   "id": "9a57859e",
   "metadata": {},
   "outputs": [
    {
     "data": {
      "text/plain": [
       "array([[ 8, 46, 17],\n",
       "       [13, 27,  6],\n",
       "       [40, 49, 43]])"
      ]
     },
     "execution_count": 36,
     "metadata": {},
     "output_type": "execute_result"
    }
   ],
   "source": [
    "data = np.array(np.random.randint(1, 50, size=9)).reshape(3, 3)\n",
    "data"
   ]
  },
  {
   "cell_type": "code",
   "execution_count": 46,
   "id": "f84397b6",
   "metadata": {},
   "outputs": [],
   "source": [
    "matrix_3x3 = data[:3, :3]"
   ]
  },
  {
   "cell_type": "code",
   "execution_count": 49,
   "id": "cd2d70b2",
   "metadata": {},
   "outputs": [
    {
     "data": {
      "text/plain": [
       "array([ 73.10477066, -12.2103332 ,  17.10556253])"
      ]
     },
     "execution_count": 49,
     "metadata": {},
     "output_type": "execute_result"
    }
   ],
   "source": [
    "eigenvalues, eigenvectors = np.linalg.eig(matrix_3x3)\n",
    "eigenvalues"
   ]
  },
  {
   "cell_type": "code",
   "execution_count": 50,
   "id": "425416f8",
   "metadata": {},
   "outputs": [
    {
     "data": {
      "text/plain": [
       "array([[-0.3929237 , -0.87267912, -0.14390946],\n",
       "       [-0.226767  ,  0.22284868, -0.36798007],\n",
       "       [-0.89117209,  0.43447627,  0.91862981]])"
      ]
     },
     "execution_count": 50,
     "metadata": {},
     "output_type": "execute_result"
    }
   ],
   "source": [
    "eigenvectors"
   ]
  },
  {
   "cell_type": "markdown",
   "id": "b7ffbe6c",
   "metadata": {},
   "source": [
    "### 9"
   ]
  },
  {
   "cell_type": "code",
   "execution_count": 60,
   "id": "c235dd01",
   "metadata": {},
   "outputs": [
    {
     "data": {
      "text/plain": [
       "array([[6., 9., 1., 3., 7.],\n",
       "       [4., 9., 3., 5., 3.],\n",
       "       [7., 5., 9., 7., 2.],\n",
       "       [4., 9., 2., 9., 5.],\n",
       "       [2., 4., 7., 8., 3.]])"
      ]
     },
     "execution_count": 60,
     "metadata": {},
     "output_type": "execute_result"
    }
   ],
   "source": [
    "data = np.array(np.random.randint(1, 10, size=25), dtype=float).reshape(5, 5)\n",
    "data"
   ]
  },
  {
   "cell_type": "code",
   "execution_count": 61,
   "id": "9f736749",
   "metadata": {},
   "outputs": [],
   "source": [
    "np.random.seed(42)\n",
    "missing_indices = np.random.choice(range(data.size), size=5, replace=False)\n",
    "data.flat[missing_indices] = np.nan"
   ]
  },
  {
   "cell_type": "code",
   "execution_count": 64,
   "id": "f76a35da",
   "metadata": {},
   "outputs": [
    {
     "name": "stdout",
     "output_type": "stream",
     "text": [
      "[[nan  9.  1.  3.  7.]\n",
      " [ 4.  9.  3. nan  3.]\n",
      " [ 7. nan  9.  7.  2.]\n",
      " [ 4. nan  2.  9.  5.]\n",
      " [ 2.  4.  7. nan  3.]]\n"
     ]
    }
   ],
   "source": [
    "print(data)"
   ]
  },
  {
   "cell_type": "code",
   "execution_count": 63,
   "id": "1e8ec54f",
   "metadata": {},
   "outputs": [
    {
     "name": "stdout",
     "output_type": "stream",
     "text": [
      "[[0 0]\n",
      " [1 3]\n",
      " [2 1]\n",
      " [3 1]\n",
      " [4 3]]\n"
     ]
    }
   ],
   "source": [
    "print(np.argwhere(np.isnan(data)))"
   ]
  },
  {
   "cell_type": "markdown",
   "id": "18b4d28a",
   "metadata": {},
   "source": [
    "### 10"
   ]
  },
  {
   "cell_type": "code",
   "execution_count": 66,
   "id": "cd8ea773",
   "metadata": {},
   "outputs": [],
   "source": [
    "data_base = np.array([[20., 15., np.nan, 10., np.nan],\n",
    "                              [30., 25., 18., np.nan, 12.],\n",
    "                              [np.nan, 22., 28., 14., 16.],\n",
    "                              [40., np.nan, 36., 24., 28.],\n",
    "                              [32., 18., 14., np.nan, 20.]])"
   ]
  },
  {
   "cell_type": "code",
   "execution_count": 67,
   "id": "9a732f34",
   "metadata": {},
   "outputs": [],
   "source": [
    "mean_value = np.nanmean(data_base)"
   ]
  },
  {
   "cell_type": "code",
   "execution_count": 70,
   "id": "91392ea4",
   "metadata": {},
   "outputs": [
    {
     "data": {
      "text/plain": [
       "array([[20.        , 15.        , 22.21052632, 10.        , 22.21052632],\n",
       "       [30.        , 25.        , 18.        , 22.21052632, 12.        ],\n",
       "       [22.21052632, 22.        , 28.        , 14.        , 16.        ],\n",
       "       [40.        , 22.21052632, 36.        , 24.        , 28.        ],\n",
       "       [32.        , 18.        , 14.        , 22.21052632, 20.        ]])"
      ]
     },
     "execution_count": 70,
     "metadata": {},
     "output_type": "execute_result"
    }
   ],
   "source": [
    "data_base[np.isnan(data_base)] = mean_value\n",
    "data_base"
   ]
  }
 ],
 "metadata": {
  "kernelspec": {
   "display_name": "Python 3 (ipykernel)",
   "language": "python",
   "name": "python3"
  },
  "language_info": {
   "codemirror_mode": {
    "name": "ipython",
    "version": 3
   },
   "file_extension": ".py",
   "mimetype": "text/x-python",
   "name": "python",
   "nbconvert_exporter": "python",
   "pygments_lexer": "ipython3",
   "version": "3.11.5"
  }
 },
 "nbformat": 4,
 "nbformat_minor": 5
}
