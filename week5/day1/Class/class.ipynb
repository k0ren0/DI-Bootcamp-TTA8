{
 "cells": [
  {
   "cell_type": "code",
   "execution_count": null,
   "metadata": {},
   "outputs": [],
   "source": []
  },
  {
   "cell_type": "code",
   "execution_count": 5,
   "id": "180e5e8b",
   "metadata": {},
   "outputs": [],
   "source": [
    "import numpy as np"
   ]
  },
  {
   "cell_type": "code",
   "execution_count": 9,
   "id": "b3245b50",
   "metadata": {},
   "outputs": [],
   "source": [
    "sales = [0, 5, 155, 0, 518, 9, 1827, 616, 317, 325]\n",
    "sales_array = np.array(sales)"
   ]
  },
  {
   "cell_type": "code",
   "execution_count": 10,
   "id": "7d578442",
   "metadata": {},
   "outputs": [
    {
     "data": {
      "text/plain": [
       "array([   0,    5,  155,    0,  518,    9, 1827,  616,  317,  325])"
      ]
     },
     "execution_count": 10,
     "metadata": {},
     "output_type": "execute_result"
    }
   ],
   "source": [
    "sales_array\n"
   ]
  },
  {
   "cell_type": "markdown",
   "id": "d0d00e82",
   "metadata": {},
   "source": [
    "### ndim - dimenstion (axes) in the array\n",
    "### shape - the size of the array in each dimention\n",
    "### size - the total number\n",
    "### dtype - the data type"
   ]
  },
  {
   "cell_type": "code",
   "execution_count": 13,
   "id": "94577e19",
   "metadata": {},
   "outputs": [
    {
     "name": "stdout",
     "output_type": "stream",
     "text": [
      "ndim: 1\n"
     ]
    }
   ],
   "source": [
    "print(f\"ndim: {sales_array.ndim}\")"
   ]
  },
  {
   "cell_type": "code",
   "execution_count": 15,
   "id": "c63ab083",
   "metadata": {},
   "outputs": [
    {
     "name": "stdout",
     "output_type": "stream",
     "text": [
      "shape: (10,)\n"
     ]
    }
   ],
   "source": [
    "print(f\"shape: {sales_array.shape}\")"
   ]
  },
  {
   "cell_type": "code",
   "execution_count": 16,
   "id": "88de9464",
   "metadata": {},
   "outputs": [
    {
     "name": "stdout",
     "output_type": "stream",
     "text": [
      "size: 10\n"
     ]
    }
   ],
   "source": [
    "print(f\"size: {sales_array.size}\")"
   ]
  },
  {
   "cell_type": "code",
   "execution_count": 18,
   "id": "09379999",
   "metadata": {},
   "outputs": [
    {
     "name": "stdout",
     "output_type": "stream",
     "text": [
      "dtype: int64\n"
     ]
    }
   ],
   "source": [
    "print(f\"dtype: {sales_array.dtype}\")"
   ]
  },
  {
   "cell_type": "code",
   "execution_count": 25,
   "id": "1ccfde45",
   "metadata": {},
   "outputs": [],
   "source": [
    "sales = [[0, 5, 155, 0, 518], [9, 1827, 616, 317, 325]]\n",
    "sales_array = np.array(sales)"
   ]
  },
  {
   "cell_type": "code",
   "execution_count": 26,
   "id": "d548ab76",
   "metadata": {},
   "outputs": [
    {
     "data": {
      "text/plain": [
       "array([[   0,    5,  155,    0,  518],\n",
       "       [   9, 1827,  616,  317,  325]])"
      ]
     },
     "execution_count": 26,
     "metadata": {},
     "output_type": "execute_result"
    }
   ],
   "source": [
    "sales_array"
   ]
  },
  {
   "cell_type": "raw",
   "id": "08b7c420",
   "metadata": {},
   "source": []
  },
  {
   "cell_type": "code",
   "execution_count": 27,
   "id": "d2ba496d",
   "metadata": {},
   "outputs": [
    {
     "name": "stdout",
     "output_type": "stream",
     "text": [
      "shape: (2, 5)\n"
     ]
    }
   ],
   "source": [
    "print(f\"shape: {sales_array.shape}\")"
   ]
  },
  {
   "cell_type": "code",
   "execution_count": 28,
   "id": "08e72081",
   "metadata": {},
   "outputs": [
    {
     "name": "stdout",
     "output_type": "stream",
     "text": [
      "size: 10\n"
     ]
    }
   ],
   "source": [
    "print(f\"size: {sales_array.size}\")"
   ]
  },
  {
   "cell_type": "code",
   "execution_count": 29,
   "id": "aeab0b6b",
   "metadata": {},
   "outputs": [
    {
     "name": "stdout",
     "output_type": "stream",
     "text": [
      "dtype: int64\n"
     ]
    }
   ],
   "source": [
    "print(f\"dtype: {sales_array.dtype}\")"
   ]
  },
  {
   "cell_type": "markdown",
   "id": "4fd1c4fe",
   "metadata": {},
   "source": [
    "\n",
    "# Assignment 1: Array Basics\n",
    "\n",
    "Can you import Numpy and convert the following list into an array?\n",
    "\n",
    "Once you've done that report the following about the array:\n",
    "• The number of dimensions\n",
    "\n",
    "• The shape\n",
    "\n",
    "• The number of elements in the array\n",
    "\n",
    "• The type of data contained inside"
   ]
  },
  {
   "cell_type": "code",
   "execution_count": 30,
   "id": "d8d51500",
   "metadata": {},
   "outputs": [
    {
     "data": {
      "text/plain": [
       "[10, 20, 30, 40, 50, 60, 70, 80, 90, 100]"
      ]
     },
     "execution_count": 30,
     "metadata": {},
     "output_type": "execute_result"
    }
   ],
   "source": [
    "my_list = [x * 10 for x in range(1,11)]\n",
    "my_list"
   ]
  },
  {
   "cell_type": "code",
   "execution_count": 31,
   "id": "e99b2c4e",
   "metadata": {},
   "outputs": [
    {
     "data": {
      "text/plain": [
       "array([ 10,  20,  30,  40,  50,  60,  70,  80,  90, 100])"
      ]
     },
     "execution_count": 31,
     "metadata": {},
     "output_type": "execute_result"
    }
   ],
   "source": [
    "my_array = np.array(my_list)\n",
    "my_array"
   ]
  },
  {
   "cell_type": "code",
   "execution_count": 33,
   "id": "9c3caf6d",
   "metadata": {},
   "outputs": [
    {
     "data": {
      "text/plain": [
       "1"
      ]
     },
     "execution_count": 33,
     "metadata": {},
     "output_type": "execute_result"
    }
   ],
   "source": [
    "my_array.ndim"
   ]
  },
  {
   "cell_type": "code",
   "execution_count": 34,
   "id": "d93a06ed",
   "metadata": {},
   "outputs": [
    {
     "data": {
      "text/plain": [
       "(10,)"
      ]
     },
     "execution_count": 34,
     "metadata": {},
     "output_type": "execute_result"
    }
   ],
   "source": [
    "my_array.shape"
   ]
  },
  {
   "cell_type": "code",
   "execution_count": 35,
   "id": "90560c5e",
   "metadata": {},
   "outputs": [
    {
     "data": {
      "text/plain": [
       "10"
      ]
     },
     "execution_count": 35,
     "metadata": {},
     "output_type": "execute_result"
    }
   ],
   "source": [
    "my_array.size"
   ]
  },
  {
   "cell_type": "code",
   "execution_count": 36,
   "id": "779a637e",
   "metadata": {},
   "outputs": [
    {
     "data": {
      "text/plain": [
       "dtype('int64')"
      ]
     },
     "execution_count": 36,
     "metadata": {},
     "output_type": "execute_result"
    }
   ],
   "source": [
    "my_array.dtype"
   ]
  },
  {
   "cell_type": "code",
   "execution_count": 39,
   "id": "07d15e05",
   "metadata": {},
   "outputs": [
    {
     "data": {
      "text/plain": [
       "array([[ 10,  20],\n",
       "       [ 30,  40],\n",
       "       [ 50,  60],\n",
       "       [ 70,  80],\n",
       "       [ 90, 100]])"
      ]
     },
     "execution_count": 39,
     "metadata": {},
     "output_type": "execute_result"
    }
   ],
   "source": [
    "my_two_dim_array = my_array.reshape(5,2)\n",
    "my_two_dim_array"
   ]
  },
  {
   "cell_type": "code",
   "execution_count": 40,
   "id": "172ce74d",
   "metadata": {},
   "outputs": [
    {
     "data": {
      "text/plain": [
       "array([[1., 1., 1.],\n",
       "       [1., 1., 1.]])"
      ]
     },
     "execution_count": 40,
     "metadata": {},
     "output_type": "execute_result"
    }
   ],
   "source": [
    "np.ones((2,3),)"
   ]
  },
  {
   "cell_type": "code",
   "execution_count": 45,
   "id": "52ed1b8d",
   "metadata": {},
   "outputs": [
    {
     "data": {
      "text/plain": [
       "array([[1., 1., 1., 1., 1., 1., 1., 1., 1., 1.],\n",
       "       [1., 1., 1., 1., 1., 1., 1., 1., 1., 1.],\n",
       "       [1., 1., 1., 1., 1., 1., 1., 1., 1., 1.],\n",
       "       [1., 1., 1., 1., 1., 1., 1., 1., 1., 1.],\n",
       "       [1., 1., 1., 1., 1., 1., 1., 1., 1., 1.],\n",
       "       [1., 1., 1., 1., 1., 1., 1., 1., 1., 1.],\n",
       "       [1., 1., 1., 1., 1., 1., 1., 1., 1., 1.],\n",
       "       [1., 1., 1., 1., 1., 1., 1., 1., 1., 1.],\n",
       "       [1., 1., 1., 1., 1., 1., 1., 1., 1., 1.],\n",
       "       [1., 1., 1., 1., 1., 1., 1., 1., 1., 1.]])"
      ]
     },
     "execution_count": 45,
     "metadata": {},
     "output_type": "execute_result"
    }
   ],
   "source": [
    "ones = np.ones((10,10))\n",
    "ones"
   ]
  },
  {
   "cell_type": "code",
   "execution_count": 47,
   "id": "1a4cd02a",
   "metadata": {},
   "outputs": [
    {
     "data": {
      "text/plain": [
       "dtype('float64')"
      ]
     },
     "execution_count": 47,
     "metadata": {},
     "output_type": "execute_result"
    }
   ],
   "source": [
    "ones.dtype"
   ]
  },
  {
   "cell_type": "code",
   "execution_count": 48,
   "id": "951f8b66",
   "metadata": {},
   "outputs": [
    {
     "data": {
      "text/plain": [
       "array([[0, 0, 0, 0, 0],\n",
       "       [0, 0, 0, 0, 0],\n",
       "       [0, 0, 0, 0, 0],\n",
       "       [0, 0, 0, 0, 0],\n",
       "       [0, 0, 0, 0, 0]])"
      ]
     },
     "execution_count": 48,
     "metadata": {},
     "output_type": "execute_result"
    }
   ],
   "source": [
    "zeros = np.zeros((5, 5), dtype=int)\n",
    "zeros"
   ]
  },
  {
   "cell_type": "code",
   "execution_count": 49,
   "id": "3c33b5f2",
   "metadata": {},
   "outputs": [
    {
     "data": {
      "text/plain": [
       "array([0, 1, 2, 3, 4, 5, 6, 7, 8, 9])"
      ]
     },
     "execution_count": 49,
     "metadata": {},
     "output_type": "execute_result"
    }
   ],
   "source": [
    "myrange = np.arange(10)\n",
    "myrange"
   ]
  },
  {
   "cell_type": "code",
   "execution_count": 52,
   "id": "24c3727a",
   "metadata": {},
   "outputs": [
    {
     "data": {
      "text/plain": [
       "array([  0.,  25.,  50.,  75., 100.])"
      ]
     },
     "execution_count": 52,
     "metadata": {},
     "output_type": "execute_result"
    }
   ],
   "source": [
    "my_linspace = np.linspace(0,100, 5)\n",
    "my_linspace"
   ]
  },
  {
   "cell_type": "code",
   "execution_count": 53,
   "id": "0f37e439",
   "metadata": {},
   "outputs": [
    {
     "data": {
      "text/plain": [
       "array([[1, 3],\n",
       "       [5, 7]])"
      ]
     },
     "execution_count": 53,
     "metadata": {},
     "output_type": "execute_result"
    }
   ],
   "source": [
    "np.arange(1,9,2).reshape(2,2)"
   ]
  },
  {
   "cell_type": "markdown",
   "id": "553bfebc",
   "metadata": {},
   "source": [
    "## np.default_rng(seed) \n",
    "## default_rng.random(n)\n",
    "## default_rng.normal (mean, stdev, n)"
   ]
  },
  {
   "cell_type": "code",
   "execution_count": 57,
   "id": "a55f02e1",
   "metadata": {},
   "outputs": [
    {
     "data": {
      "text/plain": [
       "array([0.63651375, 0.38481166, 0.04744542, 0.95525274, 0.90605094,\n",
       "       0.45696955, 0.28053348, 0.6361488 , 0.98071069, 0.81243179])"
      ]
     },
     "execution_count": 57,
     "metadata": {},
     "output_type": "execute_result"
    }
   ],
   "source": [
    "rng = np.random.default_rng(123456)\n",
    "random_array = rng.random(10)\n",
    "random_array"
   ]
  },
  {
   "cell_type": "code",
   "execution_count": 60,
   "id": "f96ea4aa",
   "metadata": {},
   "outputs": [
    {
     "data": {
      "text/plain": [
       "array([4.83863835, 5.13035288, 3.69978611, 4.0935658 , 3.23428591,\n",
       "       4.86469245, 5.08626036, 5.6060993 , 6.22908319, 6.57168118])"
      ]
     },
     "execution_count": 60,
     "metadata": {},
     "output_type": "execute_result"
    }
   ],
   "source": [
    "random_normal = rng.normal(5, 1, 10)\n",
    "random_normal"
   ]
  },
  {
   "cell_type": "markdown",
   "id": "623dce21",
   "metadata": {},
   "source": [
    "### • Create the same array from assignment 1 using a NumPy function.\n",
    "### • Make it 5 rows and 2 columns.\n",
    "### • It's ok if the datatype is float or int.\n"
   ]
  },
  {
   "cell_type": "code",
   "execution_count": 68,
   "id": "51bfc1dc",
   "metadata": {},
   "outputs": [
    {
     "data": {
      "text/plain": [
       "array([[ 10,  20],\n",
       "       [ 30,  40],\n",
       "       [ 50,  60],\n",
       "       [ 70,  80],\n",
       "       [ 90, 100]])"
      ]
     },
     "execution_count": 68,
     "metadata": {},
     "output_type": "execute_result"
    }
   ],
   "source": [
    "my_array = np.arange(10,101, 10).reshape(5, 2)\n",
    "my_array"
   ]
  },
  {
   "cell_type": "code",
   "execution_count": 70,
   "id": "72edf190",
   "metadata": {},
   "outputs": [
    {
     "data": {
      "text/plain": [
       "array([[ 10.,  20.],\n",
       "       [ 30.,  40.],\n",
       "       [ 50.,  60.],\n",
       "       [ 70.,  80.],\n",
       "       [ 90., 100.]])"
      ]
     },
     "execution_count": 70,
     "metadata": {},
     "output_type": "execute_result"
    }
   ],
   "source": [
    "\n",
    "my_linspace"
   ]
  },
  {
   "cell_type": "code",
   "execution_count": 72,
   "id": "305aa407",
   "metadata": {},
   "outputs": [
    {
     "data": {
      "text/plain": [
       "array([[ 10,  20],\n",
       "       [ 30,  40],\n",
       "       [ 50,  60],\n",
       "       [ 70,  80],\n",
       "       [ 90, 100]])"
      ]
     },
     "execution_count": 72,
     "metadata": {},
     "output_type": "execute_result"
    }
   ],
   "source": [
    "my_fun_array = (np.arange(1,11)*10).reshape(5, 2)\n",
    "my_fun_array"
   ]
  },
  {
   "cell_type": "markdown",
   "id": "09e03298",
   "metadata": {},
   "source": [
    "### Can you create a 3x3 array of random numbers between 0 and 1? \n",
    "### Use a random seed of 2022.\n",
    "### Store the random array in a variable called random_array"
   ]
  },
  {
   "cell_type": "code",
   "execution_count": 93,
   "id": "d3c79ecf",
   "metadata": {},
   "outputs": [
    {
     "data": {
      "text/plain": [
       "array([[0.46830754, 0.51434223, 0.86398828],\n",
       "       [0.71938687, 0.33349788, 0.88166362],\n",
       "       [0.51866486, 0.52321942, 0.7223887 ]])"
      ]
     },
     "execution_count": 93,
     "metadata": {},
     "output_type": "execute_result"
    }
   ],
   "source": [
    "my_rng = np.random.default_rng(2020)\n",
    "random_array = my_rng.random(9).reshape(3,3)\n",
    "random_array"
   ]
  },
  {
   "cell_type": "code",
   "execution_count": 95,
   "id": "8e75e6e9",
   "metadata": {},
   "outputs": [
    {
     "data": {
      "text/plain": [
       "array([ 0,  1,  2,  3,  4,  5,  6,  7,  8,  9, 10, 11])"
      ]
     },
     "execution_count": 95,
     "metadata": {},
     "output_type": "execute_result"
    }
   ],
   "source": [
    "integer_array = np. arange (12)\n",
    "integer_array"
   ]
  },
  {
   "cell_type": "code",
   "execution_count": 209,
   "id": "a2619725",
   "metadata": {},
   "outputs": [
    {
     "data": {
      "text/plain": [
       "4"
      ]
     },
     "execution_count": 209,
     "metadata": {},
     "output_type": "execute_result"
    }
   ],
   "source": [
    "integer_array[4]"
   ]
  },
  {
   "cell_type": "code",
   "execution_count": 210,
   "id": "cb28ff8d",
   "metadata": {},
   "outputs": [
    {
     "data": {
      "text/plain": [
       "10"
      ]
     },
     "execution_count": 210,
     "metadata": {},
     "output_type": "execute_result"
    }
   ],
   "source": [
    "integer_array[-2]"
   ]
  },
  {
   "cell_type": "code",
   "execution_count": 98,
   "id": "d6b232ec",
   "metadata": {},
   "outputs": [
    {
     "data": {
      "text/plain": [
       "array([0, 1, 2, 3, 4])"
      ]
     },
     "execution_count": 98,
     "metadata": {},
     "output_type": "execute_result"
    }
   ],
   "source": [
    "integer_array[:5]"
   ]
  },
  {
   "cell_type": "code",
   "execution_count": 211,
   "id": "d09f53a0",
   "metadata": {},
   "outputs": [
    {
     "data": {
      "text/plain": [
       "array([ 0,  1,  2,  3,  4,  5,  6,  7,  8,  9, 10, 11])"
      ]
     },
     "execution_count": 211,
     "metadata": {},
     "output_type": "execute_result"
    }
   ],
   "source": [
    "integer_array[:]"
   ]
  },
  {
   "cell_type": "code",
   "execution_count": 100,
   "id": "9c2efc3a",
   "metadata": {},
   "outputs": [
    {
     "data": {
      "text/plain": [
       "array([ 0,  2,  4,  6,  8, 10])"
      ]
     },
     "execution_count": 100,
     "metadata": {},
     "output_type": "execute_result"
    }
   ],
   "source": [
    "integer_array[::2]"
   ]
  },
  {
   "cell_type": "markdown",
   "id": "e0eaf895",
   "metadata": {},
   "source": [
    "#### array[row index, column index] - indexing to access a single element (0-indexed)\n",
    "#### array[start:stop:step size, start:stop:step size] - slicing to access a series of elements"
   ]
  },
  {
   "cell_type": "code",
   "execution_count": 101,
   "id": "dce45b51",
   "metadata": {},
   "outputs": [
    {
     "data": {
      "text/plain": [
       "array([[ 0,  1,  2,  3],\n",
       "       [ 4,  5,  6,  7],\n",
       "       [ 8,  9, 10, 11]])"
      ]
     },
     "execution_count": 101,
     "metadata": {},
     "output_type": "execute_result"
    }
   ],
   "source": [
    "new_array = integer_array.reshape(3,4)\n",
    "new_array"
   ]
  },
  {
   "cell_type": "code",
   "execution_count": 102,
   "id": "3e725597",
   "metadata": {},
   "outputs": [
    {
     "data": {
      "text/plain": [
       "array([[ 0,  1,  2,  3],\n",
       "       [ 4,  5,  6,  7],\n",
       "       [ 8,  9, 10, 11]])"
      ]
     },
     "execution_count": 102,
     "metadata": {},
     "output_type": "execute_result"
    }
   ],
   "source": [
    "new_array[:, :]"
   ]
  },
  {
   "cell_type": "code",
   "execution_count": 103,
   "id": "67f275f6",
   "metadata": {},
   "outputs": [
    {
     "data": {
      "text/plain": [
       "array([[ 4,  5,  6,  7],\n",
       "       [ 8,  9, 10, 11]])"
      ]
     },
     "execution_count": 103,
     "metadata": {},
     "output_type": "execute_result"
    }
   ],
   "source": [
    "new_array[1:, :]"
   ]
  },
  {
   "cell_type": "code",
   "execution_count": 104,
   "id": "a36b5ae2",
   "metadata": {},
   "outputs": [
    {
     "data": {
      "text/plain": [
       "array([[ 1,  2,  3],\n",
       "       [ 5,  6,  7],\n",
       "       [ 9, 10, 11]])"
      ]
     },
     "execution_count": 104,
     "metadata": {},
     "output_type": "execute_result"
    }
   ],
   "source": [
    "new_array[:, 1:]"
   ]
  },
  {
   "cell_type": "code",
   "execution_count": 105,
   "id": "983881e0",
   "metadata": {},
   "outputs": [
    {
     "data": {
      "text/plain": [
       "9"
      ]
     },
     "execution_count": 105,
     "metadata": {},
     "output_type": "execute_result"
    }
   ],
   "source": [
    "new_array[2, 1]"
   ]
  },
  {
   "cell_type": "markdown",
   "id": "d43f16a3",
   "metadata": {},
   "source": [
    "• Grab the first two 'rows' of the array\n",
    "• Grab the entire first column\n",
    "• Finally, grab the second selement of the third row."
   ]
  },
  {
   "cell_type": "code",
   "execution_count": 106,
   "id": "e2306ada",
   "metadata": {},
   "outputs": [
    {
     "data": {
      "text/plain": [
       "array([[0.46830754, 0.51434223, 0.86398828],\n",
       "       [0.71938687, 0.33349788, 0.88166362],\n",
       "       [0.51866486, 0.52321942, 0.7223887 ]])"
      ]
     },
     "execution_count": 106,
     "metadata": {},
     "output_type": "execute_result"
    }
   ],
   "source": [
    "random_array"
   ]
  },
  {
   "cell_type": "code",
   "execution_count": 107,
   "id": "b0c9ef85",
   "metadata": {},
   "outputs": [
    {
     "data": {
      "text/plain": [
       "array([[0.46830754, 0.51434223, 0.86398828],\n",
       "       [0.71938687, 0.33349788, 0.88166362]])"
      ]
     },
     "execution_count": 107,
     "metadata": {},
     "output_type": "execute_result"
    }
   ],
   "source": [
    "random_array[:2, :]"
   ]
  },
  {
   "cell_type": "code",
   "execution_count": 109,
   "id": "3ec0924c",
   "metadata": {},
   "outputs": [
    {
     "data": {
      "text/plain": [
       "array([0.46830754, 0.71938687, 0.51866486])"
      ]
     },
     "execution_count": 109,
     "metadata": {},
     "output_type": "execute_result"
    }
   ],
   "source": [
    "random_array[:, 0]"
   ]
  },
  {
   "cell_type": "code",
   "execution_count": 111,
   "id": "8b113658",
   "metadata": {},
   "outputs": [
    {
     "data": {
      "text/plain": [
       "0.523219417246932"
      ]
     },
     "execution_count": 111,
     "metadata": {},
     "output_type": "execute_result"
    }
   ],
   "source": [
    "random_array[2, 1]"
   ]
  },
  {
   "cell_type": "markdown",
   "id": "9e9b42c4",
   "metadata": {},
   "source": [
    "## Arithmetic operators can be used to perform array operations"
   ]
  },
  {
   "cell_type": "code",
   "execution_count": 112,
   "id": "168524c1",
   "metadata": {},
   "outputs": [
    {
     "data": {
      "text/plain": [
       "array([[   0,    5,  155,    0,  518],\n",
       "       [   9, 1827,  616,  317,  325]])"
      ]
     },
     "execution_count": 112,
     "metadata": {},
     "output_type": "execute_result"
    }
   ],
   "source": [
    "sales_array"
   ]
  },
  {
   "cell_type": "code",
   "execution_count": 113,
   "id": "9deb2188",
   "metadata": {},
   "outputs": [
    {
     "data": {
      "text/plain": [
       "array([[   2,    7,  157,    2,  520],\n",
       "       [  11, 1829,  618,  319,  327]])"
      ]
     },
     "execution_count": 113,
     "metadata": {},
     "output_type": "execute_result"
    }
   ],
   "source": [
    "sales_array + 2"
   ]
  },
  {
   "cell_type": "code",
   "execution_count": 114,
   "id": "06a981d2",
   "metadata": {},
   "outputs": [
    {
     "data": {
      "text/plain": [
       "array([  0,   5, 155,   0, 518])"
      ]
     },
     "execution_count": 114,
     "metadata": {},
     "output_type": "execute_result"
    }
   ],
   "source": [
    "quantity = sales_array[0, :]\n",
    "quantity"
   ]
  },
  {
   "cell_type": "code",
   "execution_count": 117,
   "id": "6b7978eb",
   "metadata": {},
   "outputs": [],
   "source": [
    "price = sales_array[1, :]"
   ]
  },
  {
   "cell_type": "code",
   "execution_count": 118,
   "id": "91801cde",
   "metadata": {},
   "outputs": [
    {
     "data": {
      "text/plain": [
       "array([   9, 1827,  616,  317,  325])"
      ]
     },
     "execution_count": 118,
     "metadata": {},
     "output_type": "execute_result"
    }
   ],
   "source": [
    "price"
   ]
  },
  {
   "cell_type": "code",
   "execution_count": 119,
   "id": "91c8568a",
   "metadata": {},
   "outputs": [
    {
     "data": {
      "text/plain": [
       "array([     0,   9135,  95480,      0, 168350])"
      ]
     },
     "execution_count": 119,
     "metadata": {},
     "output_type": "execute_result"
    }
   ],
   "source": [
    "quantity * price"
   ]
  },
  {
   "cell_type": "markdown",
   "id": "b35f900f",
   "metadata": {},
   "source": [
    "* prices = np.array([5.99, 6.99, 22.49, 99.99, 4.99, 49.99])\n",
    "* Before we do that,\n",
    "\n",
    "*Add a 5 dollar shipping fee to each price. Call this array total.\n",
    "\n",
    "#### Once we have that, we want to use the random_array created in assignment 2 and apply them to the 6 prices.\n",
    "\n",
    "* Grab the first 6 numbers from random_array, reshape it to one dimension. Call this discount_pct.\n",
    "* Subtract discount_pct FROM 1, store this in pct_owed.\n",
    "* Multiply pct_owed by total to get the final amount owed."
   ]
  },
  {
   "cell_type": "code",
   "execution_count": 126,
   "id": "9b931b91",
   "metadata": {},
   "outputs": [
    {
     "data": {
      "text/plain": [
       "array([[0.46830754, 0.51434223, 0.86398828],\n",
       "       [0.71938687, 0.33349788, 0.88166362],\n",
       "       [0.51866486, 0.52321942, 0.7223887 ]])"
      ]
     },
     "execution_count": 126,
     "metadata": {},
     "output_type": "execute_result"
    }
   ],
   "source": [
    "random_array"
   ]
  },
  {
   "cell_type": "code",
   "execution_count": 127,
   "id": "2e318c36",
   "metadata": {},
   "outputs": [],
   "source": [
    "prices = np.array([5.99, 6.99, 22.49, 99.99, 4.99, 49.99])"
   ]
  },
  {
   "cell_type": "code",
   "execution_count": 128,
   "id": "44476b25",
   "metadata": {},
   "outputs": [
    {
     "data": {
      "text/plain": [
       "array([ 5.99,  6.99, 22.49, 99.99,  4.99, 49.99])"
      ]
     },
     "execution_count": 128,
     "metadata": {},
     "output_type": "execute_result"
    }
   ],
   "source": [
    "prices"
   ]
  },
  {
   "cell_type": "code",
   "execution_count": 130,
   "id": "84d4a067",
   "metadata": {},
   "outputs": [
    {
     "data": {
      "text/plain": [
       "array([ 10.99,  11.99,  27.49, 104.99,   9.99,  54.99])"
      ]
     },
     "execution_count": 130,
     "metadata": {},
     "output_type": "execute_result"
    }
   ],
   "source": [
    "total = prices + 5\n",
    "total"
   ]
  },
  {
   "cell_type": "code",
   "execution_count": 137,
   "id": "6b60488b",
   "metadata": {},
   "outputs": [
    {
     "data": {
      "text/plain": [
       "array([0.46830754, 0.51434223, 0.86398828, 0.71938687, 0.33349788,\n",
       "       0.88166362])"
      ]
     },
     "execution_count": 137,
     "metadata": {},
     "output_type": "execute_result"
    }
   ],
   "source": [
    "discount_pct = random_array[:2].reshape(6)\n",
    "discount_pct"
   ]
  },
  {
   "cell_type": "code",
   "execution_count": 138,
   "id": "60fe9c46",
   "metadata": {},
   "outputs": [
    {
     "data": {
      "text/plain": [
       "array([0.53169246, 0.48565777, 0.13601172, 0.28061313, 0.66650212,\n",
       "       0.11833638])"
      ]
     },
     "execution_count": 138,
     "metadata": {},
     "output_type": "execute_result"
    }
   ],
   "source": [
    "pct_owed = 1 - discount_pct\n",
    "pct_owed"
   ]
  },
  {
   "cell_type": "code",
   "execution_count": 139,
   "id": "8cff49db",
   "metadata": {},
   "outputs": [
    {
     "data": {
      "text/plain": [
       "array([ 5.84,  5.82,  3.74, 29.46,  6.66,  6.51])"
      ]
     },
     "execution_count": 139,
     "metadata": {},
     "output_type": "execute_result"
    }
   ],
   "source": [
    "final_owed = total * pct_owed\n",
    "final_owed.round(2)"
   ]
  },
  {
   "cell_type": "markdown",
   "id": "d5d5f827",
   "metadata": {},
   "source": [
    "## FILTERING ARRAYS\n",
    "• You can filter arrays by indexing them with a logical test"
   ]
  },
  {
   "cell_type": "code",
   "execution_count": 140,
   "id": "dde83b61",
   "metadata": {},
   "outputs": [
    {
     "data": {
      "text/plain": [
       "array([[   0,    5,  155,    0,  518],\n",
       "       [   9, 1827,  616,  317,  325]])"
      ]
     },
     "execution_count": 140,
     "metadata": {},
     "output_type": "execute_result"
    }
   ],
   "source": [
    "sales_array"
   ]
  },
  {
   "cell_type": "code",
   "execution_count": 141,
   "id": "656a3087",
   "metadata": {},
   "outputs": [
    {
     "data": {
      "text/plain": [
       "array([[False,  True,  True, False,  True],\n",
       "       [ True,  True,  True,  True,  True]])"
      ]
     },
     "execution_count": 141,
     "metadata": {},
     "output_type": "execute_result"
    }
   ],
   "source": [
    "sales_array != 0"
   ]
  },
  {
   "cell_type": "code",
   "execution_count": 142,
   "id": "d2173087",
   "metadata": {},
   "outputs": [
    {
     "data": {
      "text/plain": [
       "array([   5,  155,  518,    9, 1827,  616,  317,  325])"
      ]
     },
     "execution_count": 142,
     "metadata": {},
     "output_type": "execute_result"
    }
   ],
   "source": [
    "sales_array[sales_array !=0]"
   ]
  },
  {
   "cell_type": "code",
   "execution_count": 143,
   "id": "cca1a0c1",
   "metadata": {},
   "outputs": [
    {
     "data": {
      "text/plain": [
       "array([[   0,    5,  155,    0,  518],\n",
       "       [   9, 1827,  616,  317,  325]])"
      ]
     },
     "execution_count": 143,
     "metadata": {},
     "output_type": "execute_result"
    }
   ],
   "source": [
    "sales_array"
   ]
  },
  {
   "cell_type": "code",
   "execution_count": 144,
   "id": "bf4ec776",
   "metadata": {},
   "outputs": [
    {
     "data": {
      "text/plain": [
       "array([616])"
      ]
     },
     "execution_count": 144,
     "metadata": {},
     "output_type": "execute_result"
    }
   ],
   "source": [
    "sales_array[(sales_array==616)]"
   ]
  },
  {
   "cell_type": "code",
   "execution_count": 146,
   "id": "2c06d8c0",
   "metadata": {},
   "outputs": [
    {
     "data": {
      "text/plain": [
       "array([  0,   5,   0,   9, 616])"
      ]
     },
     "execution_count": 146,
     "metadata": {},
     "output_type": "execute_result"
    }
   ],
   "source": [
    "sales_array[(sales_array==616) | (sales_array<100)]"
   ]
  },
  {
   "cell_type": "code",
   "execution_count": 150,
   "id": "ddfc79c5",
   "metadata": {},
   "outputs": [
    {
     "data": {
      "text/plain": [
       "array([155, 317, 325])"
      ]
     },
     "execution_count": 150,
     "metadata": {},
     "output_type": "execute_result"
    }
   ],
   "source": [
    "sales_array[(sales_array>100) & (sales_array<500)]"
   ]
  },
  {
   "cell_type": "code",
   "execution_count": 154,
   "id": "022be16d",
   "metadata": {},
   "outputs": [
    {
     "data": {
      "text/plain": [
       "array([155, 317, 325])"
      ]
     },
     "execution_count": 154,
     "metadata": {},
     "output_type": "execute_result"
    }
   ],
   "source": [
    "mask = (sales_array>100) & (sales_array<500)\n",
    "sales_array[mask]"
   ]
  },
  {
   "cell_type": "code",
   "execution_count": 155,
   "id": "1c03340f",
   "metadata": {},
   "outputs": [
    {
     "data": {
      "text/plain": [
       "array(['fruits', 'vegetables', 'cereal', 'dairy', 'eggs'], dtype='<U10')"
      ]
     },
     "execution_count": 155,
     "metadata": {},
     "output_type": "execute_result"
    }
   ],
   "source": [
    "product_array = np. array(['fruits', 'vegetables', 'cereal', 'dairy', 'eggs'])\n",
    "product_array"
   ]
  },
  {
   "cell_type": "code",
   "execution_count": 156,
   "id": "f83fb77c",
   "metadata": {},
   "outputs": [
    {
     "data": {
      "text/plain": [
       "array([  0,   5, 155,   0, 518])"
      ]
     },
     "execution_count": 156,
     "metadata": {},
     "output_type": "execute_result"
    }
   ],
   "source": [
    "sales_array = sales_array[0,:]\n",
    "sales_array"
   ]
  },
  {
   "cell_type": "code",
   "execution_count": 157,
   "id": "f38a4aae",
   "metadata": {},
   "outputs": [
    {
     "data": {
      "text/plain": [
       "array(['vegetables', 'cereal', 'eggs'], dtype='<U10')"
      ]
     },
     "execution_count": 157,
     "metadata": {},
     "output_type": "execute_result"
    }
   ],
   "source": [
    "product_array[sales_array > 0]"
   ]
  },
  {
   "cell_type": "markdown",
   "id": "94cacd1f",
   "metadata": {},
   "source": [
    "### MODIFYING ARRAY VALUES\n",
    "• You can modify array values by assigning new ones"
   ]
  },
  {
   "cell_type": "code",
   "execution_count": 158,
   "id": "0b3a7e5e",
   "metadata": {},
   "outputs": [
    {
     "data": {
      "text/plain": [
       "array([  0,   5, 155,   0, 518])"
      ]
     },
     "execution_count": 158,
     "metadata": {},
     "output_type": "execute_result"
    }
   ],
   "source": [
    "sales_array"
   ]
  },
  {
   "cell_type": "code",
   "execution_count": 160,
   "id": "6bc693ed",
   "metadata": {},
   "outputs": [],
   "source": [
    "sales_array[1] = 25"
   ]
  },
  {
   "cell_type": "code",
   "execution_count": 161,
   "id": "34663484",
   "metadata": {},
   "outputs": [
    {
     "data": {
      "text/plain": [
       "array([  0,  25, 155,   0, 518])"
      ]
     },
     "execution_count": 161,
     "metadata": {},
     "output_type": "execute_result"
    }
   ],
   "source": [
    "sales_array"
   ]
  },
  {
   "cell_type": "code",
   "execution_count": 162,
   "id": "5fbba48a",
   "metadata": {},
   "outputs": [
    {
     "data": {
      "text/plain": [
       "array([  5,  25, 155,   5, 518])"
      ]
     },
     "execution_count": 162,
     "metadata": {},
     "output_type": "execute_result"
    }
   ],
   "source": [
    "sales_array[sales_array == 0] = 5\n",
    "sales_array"
   ]
  },
  {
   "cell_type": "markdown",
   "id": "317fd35d",
   "metadata": {},
   "source": [
    "### The where function\n",
    "np.where(logici, value if true, value if false)"
   ]
  },
  {
   "cell_type": "code",
   "execution_count": 163,
   "id": "4c605f62",
   "metadata": {},
   "outputs": [
    {
     "data": {
      "text/plain": [
       "array(['fruits', 'vegetables', 'cereal', 'dairy', 'eggs'], dtype='<U10')"
      ]
     },
     "execution_count": 163,
     "metadata": {},
     "output_type": "execute_result"
    }
   ],
   "source": [
    "product_array"
   ]
  },
  {
   "cell_type": "code",
   "execution_count": 166,
   "id": "3398e6b2",
   "metadata": {},
   "outputs": [
    {
     "data": {
      "text/plain": [
       "array([ 12, 102,  18,   0,   0])"
      ]
     },
     "execution_count": 166,
     "metadata": {},
     "output_type": "execute_result"
    }
   ],
   "source": [
    "inventory_array = np.array([12, 102, 18, 0, 0])\n",
    "inventory_array"
   ]
  },
  {
   "cell_type": "code",
   "execution_count": 168,
   "id": "c245c0ed",
   "metadata": {},
   "outputs": [
    {
     "data": {
      "text/plain": [
       "array(['In Stock', 'In Stock', 'In Stock', 'Out of Stock', 'Out of Stock'],\n",
       "      dtype='<U12')"
      ]
     },
     "execution_count": 168,
     "metadata": {},
     "output_type": "execute_result"
    }
   ],
   "source": [
    "np.where(inventory_array<= 0, \"Out of Stock\", \"In Stock\")"
   ]
  },
  {
   "cell_type": "code",
   "execution_count": 169,
   "id": "6aa06c8f",
   "metadata": {},
   "outputs": [
    {
     "data": {
      "text/plain": [
       "array(['fruits', 'vegetables', 'cereal', 'Out of Stock', 'Out of Stock'],\n",
       "      dtype='<U12')"
      ]
     },
     "execution_count": 169,
     "metadata": {},
     "output_type": "execute_result"
    }
   ],
   "source": [
    "np.where(inventory_array<= 0, \"Out of Stock\", product_array)"
   ]
  },
  {
   "cell_type": "markdown",
   "id": "228ed84c",
   "metadata": {},
   "source": [
    "#### ARray aggregation methods"
   ]
  },
  {
   "cell_type": "code",
   "execution_count": 175,
   "id": "27466d30",
   "metadata": {},
   "outputs": [
    {
     "data": {
      "text/plain": [
       "array([[   0,    5,  155,    0,  518],\n",
       "       [   9, 1827,  616,  317,  325]])"
      ]
     },
     "execution_count": 175,
     "metadata": {},
     "output_type": "execute_result"
    }
   ],
   "source": [
    "sales = [0, 5, 155, 0, 518, 9, 1827,616, 317, 325]\n",
    "sales_array = np.array(sales) .reshape(2,5)\n",
    "sales_array"
   ]
  },
  {
   "cell_type": "code",
   "execution_count": 176,
   "id": "c0ecef5b",
   "metadata": {},
   "outputs": [
    {
     "data": {
      "text/plain": [
       "3772"
      ]
     },
     "execution_count": 176,
     "metadata": {},
     "output_type": "execute_result"
    }
   ],
   "source": [
    "sales_array.sum()"
   ]
  },
  {
   "cell_type": "code",
   "execution_count": 177,
   "id": "8b3e10f1",
   "metadata": {},
   "outputs": [
    {
     "data": {
      "text/plain": [
       "377.2"
      ]
     },
     "execution_count": 177,
     "metadata": {},
     "output_type": "execute_result"
    }
   ],
   "source": [
    "sales_array.mean()"
   ]
  },
  {
   "cell_type": "code",
   "execution_count": 178,
   "id": "2ff5ad22",
   "metadata": {},
   "outputs": [
    {
     "data": {
      "text/plain": [
       "1827"
      ]
     },
     "execution_count": 178,
     "metadata": {},
     "output_type": "execute_result"
    }
   ],
   "source": [
    "sales_array.max()"
   ]
  },
  {
   "cell_type": "code",
   "execution_count": 179,
   "id": "9b32ce57",
   "metadata": {},
   "outputs": [
    {
     "data": {
      "text/plain": [
       "0"
      ]
     },
     "execution_count": 179,
     "metadata": {},
     "output_type": "execute_result"
    }
   ],
   "source": [
    "sales_array.min()"
   ]
  },
  {
   "cell_type": "code",
   "execution_count": 180,
   "id": "85dbfede",
   "metadata": {},
   "outputs": [
    {
     "data": {
      "text/plain": [
       "array([   9, 1832,  771,  317,  843])"
      ]
     },
     "execution_count": 180,
     "metadata": {},
     "output_type": "execute_result"
    }
   ],
   "source": [
    "sales_array.sum(axis=0)"
   ]
  },
  {
   "cell_type": "code",
   "execution_count": 182,
   "id": "01201a79",
   "metadata": {},
   "outputs": [
    {
     "data": {
      "text/plain": [
       "array([ 678, 3094])"
      ]
     },
     "execution_count": 182,
     "metadata": {},
     "output_type": "execute_result"
    }
   ],
   "source": [
    "sales_array.sum(axis=1)"
   ]
  },
  {
   "cell_type": "code",
   "execution_count": 183,
   "id": "913bb326",
   "metadata": {},
   "outputs": [
    {
     "data": {
      "text/plain": [
       "236.0"
      ]
     },
     "execution_count": 183,
     "metadata": {},
     "output_type": "execute_result"
    }
   ],
   "source": [
    "np.median(sales_array)"
   ]
  },
  {
   "cell_type": "code",
   "execution_count": 184,
   "id": "f550e941",
   "metadata": {},
   "outputs": [
    {
     "data": {
      "text/plain": [
       "737.0999999999996"
      ]
     },
     "execution_count": 184,
     "metadata": {},
     "output_type": "execute_result"
    }
   ],
   "source": [
    "np.percentile(sales_array,90)"
   ]
  },
  {
   "cell_type": "code",
   "execution_count": 185,
   "id": "1beaab5e",
   "metadata": {},
   "outputs": [
    {
     "data": {
      "text/plain": [
       "array([   0,    5,    9,  155,  317,  325,  518,  616, 1827])"
      ]
     },
     "execution_count": 185,
     "metadata": {},
     "output_type": "execute_result"
    }
   ],
   "source": [
    "np.unique(sales_array)"
   ]
  },
  {
   "cell_type": "code",
   "execution_count": 186,
   "id": "073b0b00",
   "metadata": {},
   "outputs": [
    {
     "data": {
      "text/plain": [
       "array([[ 0.        ,  2.23606798, 12.4498996 ,  0.        , 22.75961335],\n",
       "       [ 3.        , 42.74342055, 24.81934729, 17.80449381, 18.02775638]])"
      ]
     },
     "execution_count": 186,
     "metadata": {},
     "output_type": "execute_result"
    }
   ],
   "source": [
    "np.sqrt(sales_array)"
   ]
  },
  {
   "cell_type": "code",
   "execution_count": 187,
   "id": "92c96cc1",
   "metadata": {},
   "outputs": [
    {
     "data": {
      "text/plain": [
       "array([[   0,    5,  155,    0,  518],\n",
       "       [   9, 1827,  616,  317,  325]])"
      ]
     },
     "execution_count": 187,
     "metadata": {},
     "output_type": "execute_result"
    }
   ],
   "source": [
    "sales_array"
   ]
  },
  {
   "cell_type": "code",
   "execution_count": 188,
   "id": "6487f4d6",
   "metadata": {},
   "outputs": [
    {
     "data": {
      "text/plain": [
       "array([[   0,    5,  155,    0,  518],\n",
       "       [   9, 1827,  616,  317,  325]])"
      ]
     },
     "execution_count": 188,
     "metadata": {},
     "output_type": "execute_result"
    }
   ],
   "source": [
    "sales_array"
   ]
  },
  {
   "cell_type": "code",
   "execution_count": 190,
   "id": "8c613a9f",
   "metadata": {},
   "outputs": [],
   "source": [
    "sales_array.sort(axis=0)"
   ]
  },
  {
   "cell_type": "code",
   "execution_count": 191,
   "id": "2c1ac95e",
   "metadata": {},
   "outputs": [
    {
     "data": {
      "text/plain": [
       "array([[   0,    5,  155,    0,  325],\n",
       "       [   9, 1827,  616,  317,  518]])"
      ]
     },
     "execution_count": 191,
     "metadata": {},
     "output_type": "execute_result"
    }
   ],
   "source": [
    "sales_array"
   ]
  },
  {
   "cell_type": "code",
   "execution_count": 195,
   "id": "bf1b44ef",
   "metadata": {},
   "outputs": [
    {
     "data": {
      "text/plain": [
       "array([[   0,    0,    5,  155,  325],\n",
       "       [   9,  317,  518,  616, 1827]])"
      ]
     },
     "execution_count": 195,
     "metadata": {},
     "output_type": "execute_result"
    }
   ],
   "source": [
    "sales_array.sort(axis=1)\n",
    "sales_array"
   ]
  },
  {
   "cell_type": "code",
   "execution_count": 196,
   "id": "f0ce1f02",
   "metadata": {},
   "outputs": [],
   "source": [
    "def for_loop_multiply_lists(list1, list2):\n",
    "    product_list = []\n",
    "    for element1, element2 in zip(list1, list2):\n",
    "        product_list.append(element1 * element2)\n",
    "    return product_list\n",
    "\n",
    "def multiply_arrays(array1, array2):\n",
    "    return array1 * array2"
   ]
  },
  {
   "cell_type": "code",
   "execution_count": 202,
   "id": "4020c72b",
   "metadata": {},
   "outputs": [],
   "source": [
    "list1 = list(range(1000))\n",
    "list2 = list(range(1000))"
   ]
  },
  {
   "cell_type": "code",
   "execution_count": 199,
   "id": "5ae3ac64",
   "metadata": {
    "scrolled": true
   },
   "outputs": [
    {
     "name": "stdout",
     "output_type": "stream",
     "text": [
      "28.4 µs ± 1.11 µs per loop (mean ± std. dev. of 5 runs, 10,000 loops each)\n"
     ]
    }
   ],
   "source": [
    "%%timeit -r 5 -n 10000\n",
    "for_loop_multiply_lists(list1, list2)"
   ]
  },
  {
   "cell_type": "code",
   "execution_count": 207,
   "id": "a2db7a50",
   "metadata": {},
   "outputs": [],
   "source": [
    "array1 = np.array(list1)\n",
    "array2 = np.array(list2)"
   ]
  },
  {
   "cell_type": "code",
   "execution_count": 208,
   "id": "85eed1fc",
   "metadata": {},
   "outputs": [
    {
     "name": "stdout",
     "output_type": "stream",
     "text": [
      "1.09 µs ± 560 ns per loop (mean ± std. dev. of 5 runs, 10,000 loops each)\n"
     ]
    }
   ],
   "source": [
    "%timeit -r 5 -n 10000 multiply_arrays(array1, array2)"
   ]
  }
 ],
 "metadata": {
  "kernelspec": {
   "display_name": "Python 3 (ipykernel)",
   "language": "python",
   "name": "python3"
  },
  "language_info": {
   "codemirror_mode": {
    "name": "ipython",
    "version": 3
   },
   "file_extension": ".py",
   "mimetype": "text/x-python",
   "name": "python",
   "nbconvert_exporter": "python",
   "pygments_lexer": "ipython3",
   "version": "3.11.5"
  }
 },
 "nbformat": 4,
 "nbformat_minor": 5
}
