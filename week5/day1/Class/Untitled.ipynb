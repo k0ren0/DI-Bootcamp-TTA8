{
 "cells": [
  {
   "cell_type": "code",
   "execution_count": 5,
   "id": "37040243",
   "metadata": {},
   "outputs": [],
   "source": [
    "import numpy as np"
   ]
  },
  {
   "cell_type": "code",
   "execution_count": 9,
   "id": "aeccd650",
   "metadata": {},
   "outputs": [],
   "source": [
    "sales = [0, 5, 155, 0, 518, 9, 1827, 616, 317, 325]\n",
    "sales_array = np.array(sales)"
   ]
  },
  {
   "cell_type": "code",
   "execution_count": 10,
   "id": "ce5b61a8",
   "metadata": {},
   "outputs": [
    {
     "data": {
      "text/plain": [
       "array([   0,    5,  155,    0,  518,    9, 1827,  616,  317,  325])"
      ]
     },
     "execution_count": 10,
     "metadata": {},
     "output_type": "execute_result"
    }
   ],
   "source": [
    "sales_array\n"
   ]
  },
  {
   "cell_type": "markdown",
   "id": "06421dfd",
   "metadata": {},
   "source": [
    "### ndim - dimenstion (axes) in the array\n",
    "### shape - the size of the array in each dimention\n",
    "### size - the total number\n",
    "### dtype - the data type"
   ]
  },
  {
   "cell_type": "code",
   "execution_count": 13,
   "id": "9ac209e5",
   "metadata": {},
   "outputs": [
    {
     "name": "stdout",
     "output_type": "stream",
     "text": [
      "ndim: 1\n"
     ]
    }
   ],
   "source": [
    "print(f\"ndim: {sales_array.ndim}\")"
   ]
  },
  {
   "cell_type": "code",
   "execution_count": 15,
   "id": "d628a4db",
   "metadata": {},
   "outputs": [
    {
     "name": "stdout",
     "output_type": "stream",
     "text": [
      "shape: (10,)\n"
     ]
    }
   ],
   "source": [
    "print(f\"shape: {sales_array.shape}\")"
   ]
  },
  {
   "cell_type": "code",
   "execution_count": 16,
   "id": "27ec5466",
   "metadata": {},
   "outputs": [
    {
     "name": "stdout",
     "output_type": "stream",
     "text": [
      "size: 10\n"
     ]
    }
   ],
   "source": [
    "print(f\"size: {sales_array.size}\")"
   ]
  },
  {
   "cell_type": "code",
   "execution_count": 18,
   "id": "67d5b131",
   "metadata": {},
   "outputs": [
    {
     "name": "stdout",
     "output_type": "stream",
     "text": [
      "dtype: int64\n"
     ]
    }
   ],
   "source": [
    "print(f\"dtype: {sales_array.dtype}\")"
   ]
  },
  {
   "cell_type": "code",
   "execution_count": 25,
   "id": "5201ad39",
   "metadata": {},
   "outputs": [],
   "source": [
    "sales = [[0, 5, 155, 0, 518], [9, 1827, 616, 317, 325]]\n",
    "sales_array = np.array(sales)"
   ]
  },
  {
   "cell_type": "code",
   "execution_count": 26,
   "id": "0da2e48a",
   "metadata": {},
   "outputs": [
    {
     "data": {
      "text/plain": [
       "array([[   0,    5,  155,    0,  518],\n",
       "       [   9, 1827,  616,  317,  325]])"
      ]
     },
     "execution_count": 26,
     "metadata": {},
     "output_type": "execute_result"
    }
   ],
   "source": [
    "sales_array"
   ]
  },
  {
   "cell_type": "raw",
   "id": "47da4e3c",
   "metadata": {},
   "source": []
  },
  {
   "cell_type": "code",
   "execution_count": 27,
   "id": "755a0aec",
   "metadata": {},
   "outputs": [
    {
     "name": "stdout",
     "output_type": "stream",
     "text": [
      "shape: (2, 5)\n"
     ]
    }
   ],
   "source": [
    "print(f\"shape: {sales_array.shape}\")"
   ]
  },
  {
   "cell_type": "code",
   "execution_count": 28,
   "id": "292d13ab",
   "metadata": {},
   "outputs": [
    {
     "name": "stdout",
     "output_type": "stream",
     "text": [
      "size: 10\n"
     ]
    }
   ],
   "source": [
    "print(f\"size: {sales_array.size}\")"
   ]
  },
  {
   "cell_type": "code",
   "execution_count": 29,
   "id": "77883fb0",
   "metadata": {},
   "outputs": [
    {
     "name": "stdout",
     "output_type": "stream",
     "text": [
      "dtype: int64\n"
     ]
    }
   ],
   "source": [
    "print(f\"dtype: {sales_array.dtype}\")"
   ]
  },
  {
   "cell_type": "markdown",
   "id": "fb15f4f6",
   "metadata": {},
   "source": [
    "\n",
    "# Assignment 1: Array Basics\n",
    "\n",
    "Can you import Numpy and convert the following list into an array?\n",
    "\n",
    "Once you've done that report the following about the array:\n",
    "• The number of dimensions\n",
    "\n",
    "• The shape\n",
    "\n",
    "• The number of elements in the array\n",
    "\n",
    "• The type of data contained inside"
   ]
  },
  {
   "cell_type": "code",
   "execution_count": 30,
   "id": "ecf70120",
   "metadata": {},
   "outputs": [
    {
     "data": {
      "text/plain": [
       "[10, 20, 30, 40, 50, 60, 70, 80, 90, 100]"
      ]
     },
     "execution_count": 30,
     "metadata": {},
     "output_type": "execute_result"
    }
   ],
   "source": [
    "my_list = [x * 10 for x in range(1,11)]\n",
    "my_list"
   ]
  },
  {
   "cell_type": "code",
   "execution_count": 31,
   "id": "75096053",
   "metadata": {},
   "outputs": [
    {
     "data": {
      "text/plain": [
       "array([ 10,  20,  30,  40,  50,  60,  70,  80,  90, 100])"
      ]
     },
     "execution_count": 31,
     "metadata": {},
     "output_type": "execute_result"
    }
   ],
   "source": [
    "my_array = np.array(my_list)\n",
    "my_array"
   ]
  },
  {
   "cell_type": "code",
   "execution_count": 33,
   "id": "b32dac26",
   "metadata": {},
   "outputs": [
    {
     "data": {
      "text/plain": [
       "1"
      ]
     },
     "execution_count": 33,
     "metadata": {},
     "output_type": "execute_result"
    }
   ],
   "source": [
    "my_array.ndim"
   ]
  },
  {
   "cell_type": "code",
   "execution_count": 34,
   "id": "5a88800d",
   "metadata": {},
   "outputs": [
    {
     "data": {
      "text/plain": [
       "(10,)"
      ]
     },
     "execution_count": 34,
     "metadata": {},
     "output_type": "execute_result"
    }
   ],
   "source": [
    "my_array.shape"
   ]
  },
  {
   "cell_type": "code",
   "execution_count": 35,
   "id": "38527b21",
   "metadata": {},
   "outputs": [
    {
     "data": {
      "text/plain": [
       "10"
      ]
     },
     "execution_count": 35,
     "metadata": {},
     "output_type": "execute_result"
    }
   ],
   "source": [
    "my_array.size"
   ]
  },
  {
   "cell_type": "code",
   "execution_count": 36,
   "id": "b617dd28",
   "metadata": {},
   "outputs": [
    {
     "data": {
      "text/plain": [
       "dtype('int64')"
      ]
     },
     "execution_count": 36,
     "metadata": {},
     "output_type": "execute_result"
    }
   ],
   "source": [
    "my_array.dtype"
   ]
  },
  {
   "cell_type": "code",
   "execution_count": 39,
   "id": "c9622704",
   "metadata": {},
   "outputs": [
    {
     "data": {
      "text/plain": [
       "array([[ 10,  20],\n",
       "       [ 30,  40],\n",
       "       [ 50,  60],\n",
       "       [ 70,  80],\n",
       "       [ 90, 100]])"
      ]
     },
     "execution_count": 39,
     "metadata": {},
     "output_type": "execute_result"
    }
   ],
   "source": [
    "my_two_dim_array = my_array.reshape(5,2)\n",
    "my_two_dim_array"
   ]
  },
  {
   "cell_type": "code",
   "execution_count": 40,
   "id": "86509865",
   "metadata": {},
   "outputs": [
    {
     "data": {
      "text/plain": [
       "array([[1., 1., 1.],\n",
       "       [1., 1., 1.]])"
      ]
     },
     "execution_count": 40,
     "metadata": {},
     "output_type": "execute_result"
    }
   ],
   "source": [
    "np.ones((2,3),)"
   ]
  },
  {
   "cell_type": "code",
   "execution_count": 45,
   "id": "cf63c22b",
   "metadata": {},
   "outputs": [
    {
     "data": {
      "text/plain": [
       "array([[1., 1., 1., 1., 1., 1., 1., 1., 1., 1.],\n",
       "       [1., 1., 1., 1., 1., 1., 1., 1., 1., 1.],\n",
       "       [1., 1., 1., 1., 1., 1., 1., 1., 1., 1.],\n",
       "       [1., 1., 1., 1., 1., 1., 1., 1., 1., 1.],\n",
       "       [1., 1., 1., 1., 1., 1., 1., 1., 1., 1.],\n",
       "       [1., 1., 1., 1., 1., 1., 1., 1., 1., 1.],\n",
       "       [1., 1., 1., 1., 1., 1., 1., 1., 1., 1.],\n",
       "       [1., 1., 1., 1., 1., 1., 1., 1., 1., 1.],\n",
       "       [1., 1., 1., 1., 1., 1., 1., 1., 1., 1.],\n",
       "       [1., 1., 1., 1., 1., 1., 1., 1., 1., 1.]])"
      ]
     },
     "execution_count": 45,
     "metadata": {},
     "output_type": "execute_result"
    }
   ],
   "source": [
    "ones = np.ones((10,10))\n",
    "ones"
   ]
  },
  {
   "cell_type": "code",
   "execution_count": 47,
   "id": "9e679355",
   "metadata": {},
   "outputs": [
    {
     "data": {
      "text/plain": [
       "dtype('float64')"
      ]
     },
     "execution_count": 47,
     "metadata": {},
     "output_type": "execute_result"
    }
   ],
   "source": [
    "ones.dtype"
   ]
  },
  {
   "cell_type": "code",
   "execution_count": 48,
   "id": "ee0f47da",
   "metadata": {},
   "outputs": [
    {
     "data": {
      "text/plain": [
       "array([[0, 0, 0, 0, 0],\n",
       "       [0, 0, 0, 0, 0],\n",
       "       [0, 0, 0, 0, 0],\n",
       "       [0, 0, 0, 0, 0],\n",
       "       [0, 0, 0, 0, 0]])"
      ]
     },
     "execution_count": 48,
     "metadata": {},
     "output_type": "execute_result"
    }
   ],
   "source": [
    "zeros = np.zeros((5, 5), dtype=int)\n",
    "zeros"
   ]
  },
  {
   "cell_type": "code",
   "execution_count": 49,
   "id": "301e6232",
   "metadata": {},
   "outputs": [
    {
     "data": {
      "text/plain": [
       "array([0, 1, 2, 3, 4, 5, 6, 7, 8, 9])"
      ]
     },
     "execution_count": 49,
     "metadata": {},
     "output_type": "execute_result"
    }
   ],
   "source": [
    "myrange = np.arange(10)\n",
    "myrange"
   ]
  },
  {
   "cell_type": "code",
   "execution_count": 52,
   "id": "25e58779",
   "metadata": {},
   "outputs": [
    {
     "data": {
      "text/plain": [
       "array([  0.,  25.,  50.,  75., 100.])"
      ]
     },
     "execution_count": 52,
     "metadata": {},
     "output_type": "execute_result"
    }
   ],
   "source": [
    "my_linspace = np.linspace(0,100, 5)\n",
    "my_linspace"
   ]
  },
  {
   "cell_type": "code",
   "execution_count": 53,
   "id": "35f33f66",
   "metadata": {},
   "outputs": [
    {
     "data": {
      "text/plain": [
       "array([[1, 3],\n",
       "       [5, 7]])"
      ]
     },
     "execution_count": 53,
     "metadata": {},
     "output_type": "execute_result"
    }
   ],
   "source": [
    "np.arange(1,9,2).reshape(2,2)"
   ]
  },
  {
   "cell_type": "markdown",
   "id": "702c2167",
   "metadata": {},
   "source": [
    "## np.default_rng(seed) \n",
    "## default_rng.random(n)\n",
    "## default_rng.normal (mean, stdev, n)"
   ]
  },
  {
   "cell_type": "code",
   "execution_count": 57,
   "id": "7bfb5817",
   "metadata": {},
   "outputs": [
    {
     "data": {
      "text/plain": [
       "array([0.63651375, 0.38481166, 0.04744542, 0.95525274, 0.90605094,\n",
       "       0.45696955, 0.28053348, 0.6361488 , 0.98071069, 0.81243179])"
      ]
     },
     "execution_count": 57,
     "metadata": {},
     "output_type": "execute_result"
    }
   ],
   "source": [
    "rng = np.random.default_rng(123456)\n",
    "random_array = rng.random(10)\n",
    "random_array"
   ]
  },
  {
   "cell_type": "code",
   "execution_count": 60,
   "id": "c2b789af",
   "metadata": {},
   "outputs": [
    {
     "data": {
      "text/plain": [
       "array([4.83863835, 5.13035288, 3.69978611, 4.0935658 , 3.23428591,\n",
       "       4.86469245, 5.08626036, 5.6060993 , 6.22908319, 6.57168118])"
      ]
     },
     "execution_count": 60,
     "metadata": {},
     "output_type": "execute_result"
    }
   ],
   "source": [
    "random_normal = rng.normal(5, 1, 10)\n",
    "random_normal"
   ]
  },
  {
   "cell_type": "markdown",
   "id": "e4447982",
   "metadata": {},
   "source": [
    "### • Create the same array from assignment 1 using a NumPy function.\n",
    "### • Make it 5 rows and 2 columns.\n",
    "### • It's ok if the datatype is float or int.\n"
   ]
  },
  {
   "cell_type": "code",
   "execution_count": 68,
   "id": "e301d358",
   "metadata": {},
   "outputs": [
    {
     "data": {
      "text/plain": [
       "array([[ 10,  20],\n",
       "       [ 30,  40],\n",
       "       [ 50,  60],\n",
       "       [ 70,  80],\n",
       "       [ 90, 100]])"
      ]
     },
     "execution_count": 68,
     "metadata": {},
     "output_type": "execute_result"
    }
   ],
   "source": [
    "my_array = np.arange(10,101, 10).reshape(5, 2)\n",
    "my_array"
   ]
  },
  {
   "cell_type": "code",
   "execution_count": 70,
   "id": "4e06ff20",
   "metadata": {},
   "outputs": [
    {
     "data": {
      "text/plain": [
       "array([[ 10.,  20.],\n",
       "       [ 30.,  40.],\n",
       "       [ 50.,  60.],\n",
       "       [ 70.,  80.],\n",
       "       [ 90., 100.]])"
      ]
     },
     "execution_count": 70,
     "metadata": {},
     "output_type": "execute_result"
    }
   ],
   "source": [
    "my_linspace = np.linspace(10,100, 10).reshape(5, 2)\n",
    "my_linspace"
   ]
  },
  {
   "cell_type": "code",
   "execution_count": 72,
   "id": "f6cd7dce",
   "metadata": {},
   "outputs": [
    {
     "data": {
      "text/plain": [
       "array([[ 10,  20],\n",
       "       [ 30,  40],\n",
       "       [ 50,  60],\n",
       "       [ 70,  80],\n",
       "       [ 90, 100]])"
      ]
     },
     "execution_count": 72,
     "metadata": {},
     "output_type": "execute_result"
    }
   ],
   "source": [
    "my_fun_array = (np.arange(1,11)*10).reshape(5, 2)\n",
    "my_fun_array"
   ]
  },
  {
   "cell_type": "markdown",
   "id": "38bd0db6",
   "metadata": {},
   "source": [
    "### Can you create a 3x3 array of random numbers between 0 and 1? \n",
    "### Use a random seed of 2022.\n",
    "### Store the random array in a variable called random_array"
   ]
  },
  {
   "cell_type": "code",
   "execution_count": 93,
   "id": "10008639",
   "metadata": {},
   "outputs": [
    {
     "data": {
      "text/plain": [
       "array([[0.46830754, 0.51434223, 0.86398828],\n",
       "       [0.71938687, 0.33349788, 0.88166362],\n",
       "       [0.51866486, 0.52321942, 0.7223887 ]])"
      ]
     },
     "execution_count": 93,
     "metadata": {},
     "output_type": "execute_result"
    }
   ],
   "source": [
    "my_rng = np.random.default_rng(2020)\n",
    "random_array = my_rng.random(9).reshape(3,3)\n",
    "random_array"
   ]
  },
  {
   "cell_type": "code",
   "execution_count": 95,
   "id": "0c143a1c",
   "metadata": {},
   "outputs": [
    {
     "data": {
      "text/plain": [
       "array([ 0,  1,  2,  3,  4,  5,  6,  7,  8,  9, 10, 11])"
      ]
     },
     "execution_count": 95,
     "metadata": {},
     "output_type": "execute_result"
    }
   ],
   "source": [
    "integer_array = np. arange (12)\n",
    "integer_array"
   ]
  },
  {
   "cell_type": "code",
   "execution_count": 96,
   "id": "935b1b82",
   "metadata": {},
   "outputs": [
    {
     "data": {
      "text/plain": [
       "4"
      ]
     },
     "execution_count": 96,
     "metadata": {},
     "output_type": "execute_result"
    }
   ],
   "source": [
    "integer_array[4]"
   ]
  },
  {
   "cell_type": "code",
   "execution_count": 97,
   "id": "1602dc2e",
   "metadata": {},
   "outputs": [
    {
     "data": {
      "text/plain": [
       "10"
      ]
     },
     "execution_count": 97,
     "metadata": {},
     "output_type": "execute_result"
    }
   ],
   "source": [
    "integer_array[-2]"
   ]
  },
  {
   "cell_type": "code",
   "execution_count": 98,
   "id": "3b1c6d16",
   "metadata": {},
   "outputs": [
    {
     "data": {
      "text/plain": [
       "array([0, 1, 2, 3, 4])"
      ]
     },
     "execution_count": 98,
     "metadata": {},
     "output_type": "execute_result"
    }
   ],
   "source": [
    "integer_array[:5]"
   ]
  },
  {
   "cell_type": "code",
   "execution_count": 99,
   "id": "a7c8f25e",
   "metadata": {},
   "outputs": [
    {
     "data": {
      "text/plain": [
       "array([ 0,  1,  2,  3,  4,  5,  6,  7,  8,  9, 10, 11])"
      ]
     },
     "execution_count": 99,
     "metadata": {},
     "output_type": "execute_result"
    }
   ],
   "source": [
    "integer_array[:]"
   ]
  },
  {
   "cell_type": "code",
   "execution_count": 100,
   "id": "9ee102d2",
   "metadata": {},
   "outputs": [
    {
     "data": {
      "text/plain": [
       "array([ 0,  2,  4,  6,  8, 10])"
      ]
     },
     "execution_count": 100,
     "metadata": {},
     "output_type": "execute_result"
    }
   ],
   "source": [
    "integer_array[::2]"
   ]
  },
  {
   "cell_type": "markdown",
   "id": "ea69ed1f",
   "metadata": {},
   "source": [
    "#### array[row index, column index] - indexing to access a single element (0-indexed)\n",
    "#### array[start:stop:step size, start:stop:step size] - slicing to access a series of elements"
   ]
  },
  {
   "cell_type": "code",
   "execution_count": 101,
   "id": "86b9fbb2",
   "metadata": {},
   "outputs": [
    {
     "data": {
      "text/plain": [
       "array([[ 0,  1,  2,  3],\n",
       "       [ 4,  5,  6,  7],\n",
       "       [ 8,  9, 10, 11]])"
      ]
     },
     "execution_count": 101,
     "metadata": {},
     "output_type": "execute_result"
    }
   ],
   "source": [
    "new_array = integer_array.reshape(3,4)\n",
    "new_array"
   ]
  },
  {
   "cell_type": "code",
   "execution_count": 102,
   "id": "6ea65968",
   "metadata": {},
   "outputs": [
    {
     "data": {
      "text/plain": [
       "array([[ 0,  1,  2,  3],\n",
       "       [ 4,  5,  6,  7],\n",
       "       [ 8,  9, 10, 11]])"
      ]
     },
     "execution_count": 102,
     "metadata": {},
     "output_type": "execute_result"
    }
   ],
   "source": [
    "new_array[:, :]"
   ]
  },
  {
   "cell_type": "code",
   "execution_count": 103,
   "id": "337ceae6",
   "metadata": {},
   "outputs": [
    {
     "data": {
      "text/plain": [
       "array([[ 4,  5,  6,  7],\n",
       "       [ 8,  9, 10, 11]])"
      ]
     },
     "execution_count": 103,
     "metadata": {},
     "output_type": "execute_result"
    }
   ],
   "source": [
    "new_array[1:, :]"
   ]
  },
  {
   "cell_type": "code",
   "execution_count": 104,
   "id": "632c8c15",
   "metadata": {},
   "outputs": [
    {
     "data": {
      "text/plain": [
       "array([[ 1,  2,  3],\n",
       "       [ 5,  6,  7],\n",
       "       [ 9, 10, 11]])"
      ]
     },
     "execution_count": 104,
     "metadata": {},
     "output_type": "execute_result"
    }
   ],
   "source": [
    "new_array[:, 1:]"
   ]
  },
  {
   "cell_type": "code",
   "execution_count": 105,
   "id": "7f33def9",
   "metadata": {},
   "outputs": [
    {
     "data": {
      "text/plain": [
       "9"
      ]
     },
     "execution_count": 105,
     "metadata": {},
     "output_type": "execute_result"
    }
   ],
   "source": [
    "new_array[2, 1]"
   ]
  },
  {
   "cell_type": "markdown",
   "id": "21d1f8f5",
   "metadata": {},
   "source": [
    "• Grab the first two 'rows' of the array\n",
    "• Grab the entire first column\n",
    "• Finally, grab the second selement of the third row."
   ]
  },
  {
   "cell_type": "code",
   "execution_count": 106,
   "id": "f06ec677",
   "metadata": {},
   "outputs": [
    {
     "data": {
      "text/plain": [
       "array([[0.46830754, 0.51434223, 0.86398828],\n",
       "       [0.71938687, 0.33349788, 0.88166362],\n",
       "       [0.51866486, 0.52321942, 0.7223887 ]])"
      ]
     },
     "execution_count": 106,
     "metadata": {},
     "output_type": "execute_result"
    }
   ],
   "source": [
    "random_array"
   ]
  },
  {
   "cell_type": "code",
   "execution_count": 107,
   "id": "13540a90",
   "metadata": {},
   "outputs": [
    {
     "data": {
      "text/plain": [
       "array([[0.46830754, 0.51434223, 0.86398828],\n",
       "       [0.71938687, 0.33349788, 0.88166362]])"
      ]
     },
     "execution_count": 107,
     "metadata": {},
     "output_type": "execute_result"
    }
   ],
   "source": [
    "random_array[:2, :]"
   ]
  },
  {
   "cell_type": "code",
   "execution_count": 109,
   "id": "f22e2796",
   "metadata": {},
   "outputs": [
    {
     "data": {
      "text/plain": [
       "array([0.46830754, 0.71938687, 0.51866486])"
      ]
     },
     "execution_count": 109,
     "metadata": {},
     "output_type": "execute_result"
    }
   ],
   "source": [
    "random_array[:, 0]"
   ]
  },
  {
   "cell_type": "code",
   "execution_count": 110,
   "id": "0c0a3e4f",
   "metadata": {},
   "outputs": [
    {
     "data": {
      "text/plain": [
       "0.523219417246932"
      ]
     },
     "execution_count": 110,
     "metadata": {},
     "output_type": "execute_result"
    }
   ],
   "source": [
    "random_array[2, 1]"
   ]
  }
 ],
 "metadata": {
  "kernelspec": {
   "display_name": "Python 3 (ipykernel)",
   "language": "python",
   "name": "python3"
  },
  "language_info": {
   "codemirror_mode": {
    "name": "ipython",
    "version": 3
   },
   "file_extension": ".py",
   "mimetype": "text/x-python",
   "name": "python",
   "nbconvert_exporter": "python",
   "pygments_lexer": "ipython3",
   "version": "3.11.5"
  }
 },
 "nbformat": 4,
 "nbformat_minor": 5
}
