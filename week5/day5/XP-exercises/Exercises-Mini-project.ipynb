{
 "cells": [
  {
   "cell_type": "markdown",
   "id": "01003e19",
   "metadata": {},
   "source": [
    "# Mini Project : California Housing"
   ]
  },
  {
   "cell_type": "code",
   "execution_count": 195,
   "id": "84f68e0e",
   "metadata": {},
   "outputs": [],
   "source": [
    "import numpy as np\n",
    "import pandas as pd\n",
    "import matplotlib.pyplot as plt\n",
    "from sklearn.preprocessing import MinMaxScaler, OneHotEncoder\n",
    "from sklearn.datasets import fetch_california_housing"
   ]
  },
  {
   "cell_type": "markdown",
   "id": "6526edbb",
   "metadata": {},
   "source": [
    "## Part I"
   ]
  },
  {
   "cell_type": "markdown",
   "id": "d27a3aba",
   "metadata": {},
   "source": [
    "### Load the Data:"
   ]
  },
  {
   "cell_type": "code",
   "execution_count": 237,
   "id": "5fd81122",
   "metadata": {},
   "outputs": [],
   "source": [
    "data = fetch_california_housing()\n",
    "\n",
    "df = pd.DataFrame(data['data'], columns=data['feature_names'])\n",
    "df['Target'] = data['target']"
   ]
  },
  {
   "cell_type": "markdown",
   "id": "5f0e0eae",
   "metadata": {},
   "source": [
    "### Explore the Data:"
   ]
  },
  {
   "cell_type": "code",
   "execution_count": 208,
   "id": "4f40a0bb",
   "metadata": {},
   "outputs": [
    {
     "data": {
      "text/html": [
       "<div>\n",
       "<style scoped>\n",
       "    .dataframe tbody tr th:only-of-type {\n",
       "        vertical-align: middle;\n",
       "    }\n",
       "\n",
       "    .dataframe tbody tr th {\n",
       "        vertical-align: top;\n",
       "    }\n",
       "\n",
       "    .dataframe thead th {\n",
       "        text-align: right;\n",
       "    }\n",
       "</style>\n",
       "<table border=\"1\" class=\"dataframe\">\n",
       "  <thead>\n",
       "    <tr style=\"text-align: right;\">\n",
       "      <th></th>\n",
       "      <th>MedInc</th>\n",
       "      <th>HouseAge</th>\n",
       "      <th>AveRooms</th>\n",
       "      <th>AveBedrms</th>\n",
       "      <th>Population</th>\n",
       "      <th>AveOccup</th>\n",
       "      <th>Latitude</th>\n",
       "      <th>Longitude</th>\n",
       "      <th>Target</th>\n",
       "    </tr>\n",
       "  </thead>\n",
       "  <tbody>\n",
       "    <tr>\n",
       "      <th>count</th>\n",
       "      <td>20640.000000</td>\n",
       "      <td>20640.000000</td>\n",
       "      <td>20640.000000</td>\n",
       "      <td>20640.000000</td>\n",
       "      <td>20640.000000</td>\n",
       "      <td>20640.000000</td>\n",
       "      <td>20640.000000</td>\n",
       "      <td>20640.000000</td>\n",
       "      <td>20640.000000</td>\n",
       "    </tr>\n",
       "    <tr>\n",
       "      <th>mean</th>\n",
       "      <td>3.870671</td>\n",
       "      <td>28.639486</td>\n",
       "      <td>5.429000</td>\n",
       "      <td>1.096675</td>\n",
       "      <td>1425.476744</td>\n",
       "      <td>3.070655</td>\n",
       "      <td>35.631861</td>\n",
       "      <td>-119.569704</td>\n",
       "      <td>2.068558</td>\n",
       "    </tr>\n",
       "    <tr>\n",
       "      <th>std</th>\n",
       "      <td>1.899822</td>\n",
       "      <td>12.585558</td>\n",
       "      <td>2.474173</td>\n",
       "      <td>0.473911</td>\n",
       "      <td>1132.462122</td>\n",
       "      <td>10.386050</td>\n",
       "      <td>2.135952</td>\n",
       "      <td>2.003532</td>\n",
       "      <td>1.153956</td>\n",
       "    </tr>\n",
       "    <tr>\n",
       "      <th>min</th>\n",
       "      <td>0.499900</td>\n",
       "      <td>1.000000</td>\n",
       "      <td>0.846154</td>\n",
       "      <td>0.333333</td>\n",
       "      <td>3.000000</td>\n",
       "      <td>0.692308</td>\n",
       "      <td>32.540000</td>\n",
       "      <td>-124.350000</td>\n",
       "      <td>0.149990</td>\n",
       "    </tr>\n",
       "    <tr>\n",
       "      <th>25%</th>\n",
       "      <td>2.563400</td>\n",
       "      <td>18.000000</td>\n",
       "      <td>4.440716</td>\n",
       "      <td>1.006079</td>\n",
       "      <td>787.000000</td>\n",
       "      <td>2.429741</td>\n",
       "      <td>33.930000</td>\n",
       "      <td>-121.800000</td>\n",
       "      <td>1.196000</td>\n",
       "    </tr>\n",
       "    <tr>\n",
       "      <th>50%</th>\n",
       "      <td>3.534800</td>\n",
       "      <td>29.000000</td>\n",
       "      <td>5.229129</td>\n",
       "      <td>1.048780</td>\n",
       "      <td>1166.000000</td>\n",
       "      <td>2.818116</td>\n",
       "      <td>34.260000</td>\n",
       "      <td>-118.490000</td>\n",
       "      <td>1.797000</td>\n",
       "    </tr>\n",
       "    <tr>\n",
       "      <th>75%</th>\n",
       "      <td>4.743250</td>\n",
       "      <td>37.000000</td>\n",
       "      <td>6.052381</td>\n",
       "      <td>1.099526</td>\n",
       "      <td>1725.000000</td>\n",
       "      <td>3.282261</td>\n",
       "      <td>37.710000</td>\n",
       "      <td>-118.010000</td>\n",
       "      <td>2.647250</td>\n",
       "    </tr>\n",
       "    <tr>\n",
       "      <th>max</th>\n",
       "      <td>15.000100</td>\n",
       "      <td>52.000000</td>\n",
       "      <td>141.909091</td>\n",
       "      <td>34.066667</td>\n",
       "      <td>35682.000000</td>\n",
       "      <td>1243.333333</td>\n",
       "      <td>41.950000</td>\n",
       "      <td>-114.310000</td>\n",
       "      <td>5.000010</td>\n",
       "    </tr>\n",
       "  </tbody>\n",
       "</table>\n",
       "</div>"
      ],
      "text/plain": [
       "             MedInc      HouseAge      AveRooms     AveBedrms    Population  \\\n",
       "count  20640.000000  20640.000000  20640.000000  20640.000000  20640.000000   \n",
       "mean       3.870671     28.639486      5.429000      1.096675   1425.476744   \n",
       "std        1.899822     12.585558      2.474173      0.473911   1132.462122   \n",
       "min        0.499900      1.000000      0.846154      0.333333      3.000000   \n",
       "25%        2.563400     18.000000      4.440716      1.006079    787.000000   \n",
       "50%        3.534800     29.000000      5.229129      1.048780   1166.000000   \n",
       "75%        4.743250     37.000000      6.052381      1.099526   1725.000000   \n",
       "max       15.000100     52.000000    141.909091     34.066667  35682.000000   \n",
       "\n",
       "           AveOccup      Latitude     Longitude        Target  \n",
       "count  20640.000000  20640.000000  20640.000000  20640.000000  \n",
       "mean       3.070655     35.631861   -119.569704      2.068558  \n",
       "std       10.386050      2.135952      2.003532      1.153956  \n",
       "min        0.692308     32.540000   -124.350000      0.149990  \n",
       "25%        2.429741     33.930000   -121.800000      1.196000  \n",
       "50%        2.818116     34.260000   -118.490000      1.797000  \n",
       "75%        3.282261     37.710000   -118.010000      2.647250  \n",
       "max     1243.333333     41.950000   -114.310000      5.000010  "
      ]
     },
     "execution_count": 208,
     "metadata": {},
     "output_type": "execute_result"
    }
   ],
   "source": [
    "df.describe()"
   ]
  },
  {
   "cell_type": "code",
   "execution_count": 238,
   "id": "fc7e2cb1",
   "metadata": {
    "scrolled": true
   },
   "outputs": [
    {
     "data": {
      "text/html": [
       "<div>\n",
       "<style scoped>\n",
       "    .dataframe tbody tr th:only-of-type {\n",
       "        vertical-align: middle;\n",
       "    }\n",
       "\n",
       "    .dataframe tbody tr th {\n",
       "        vertical-align: top;\n",
       "    }\n",
       "\n",
       "    .dataframe thead th {\n",
       "        text-align: right;\n",
       "    }\n",
       "</style>\n",
       "<table border=\"1\" class=\"dataframe\">\n",
       "  <thead>\n",
       "    <tr style=\"text-align: right;\">\n",
       "      <th></th>\n",
       "      <th>MedInc</th>\n",
       "      <th>HouseAge</th>\n",
       "      <th>AveRooms</th>\n",
       "      <th>AveBedrms</th>\n",
       "      <th>Population</th>\n",
       "      <th>AveOccup</th>\n",
       "      <th>Latitude</th>\n",
       "      <th>Longitude</th>\n",
       "      <th>Target</th>\n",
       "    </tr>\n",
       "  </thead>\n",
       "  <tbody>\n",
       "    <tr>\n",
       "      <th>0</th>\n",
       "      <td>8.3252</td>\n",
       "      <td>41.0</td>\n",
       "      <td>6.984127</td>\n",
       "      <td>1.023810</td>\n",
       "      <td>322.0</td>\n",
       "      <td>2.555556</td>\n",
       "      <td>37.88</td>\n",
       "      <td>-122.23</td>\n",
       "      <td>4.526</td>\n",
       "    </tr>\n",
       "    <tr>\n",
       "      <th>1</th>\n",
       "      <td>8.3014</td>\n",
       "      <td>21.0</td>\n",
       "      <td>6.238137</td>\n",
       "      <td>0.971880</td>\n",
       "      <td>2401.0</td>\n",
       "      <td>2.109842</td>\n",
       "      <td>37.86</td>\n",
       "      <td>-122.22</td>\n",
       "      <td>3.585</td>\n",
       "    </tr>\n",
       "    <tr>\n",
       "      <th>2</th>\n",
       "      <td>7.2574</td>\n",
       "      <td>52.0</td>\n",
       "      <td>8.288136</td>\n",
       "      <td>1.073446</td>\n",
       "      <td>496.0</td>\n",
       "      <td>2.802260</td>\n",
       "      <td>37.85</td>\n",
       "      <td>-122.24</td>\n",
       "      <td>3.521</td>\n",
       "    </tr>\n",
       "    <tr>\n",
       "      <th>3</th>\n",
       "      <td>5.6431</td>\n",
       "      <td>52.0</td>\n",
       "      <td>5.817352</td>\n",
       "      <td>1.073059</td>\n",
       "      <td>558.0</td>\n",
       "      <td>2.547945</td>\n",
       "      <td>37.85</td>\n",
       "      <td>-122.25</td>\n",
       "      <td>3.413</td>\n",
       "    </tr>\n",
       "    <tr>\n",
       "      <th>4</th>\n",
       "      <td>3.8462</td>\n",
       "      <td>52.0</td>\n",
       "      <td>6.281853</td>\n",
       "      <td>1.081081</td>\n",
       "      <td>565.0</td>\n",
       "      <td>2.181467</td>\n",
       "      <td>37.85</td>\n",
       "      <td>-122.25</td>\n",
       "      <td>3.422</td>\n",
       "    </tr>\n",
       "  </tbody>\n",
       "</table>\n",
       "</div>"
      ],
      "text/plain": [
       "   MedInc  HouseAge  AveRooms  AveBedrms  Population  AveOccup  Latitude  \\\n",
       "0  8.3252      41.0  6.984127   1.023810       322.0  2.555556     37.88   \n",
       "1  8.3014      21.0  6.238137   0.971880      2401.0  2.109842     37.86   \n",
       "2  7.2574      52.0  8.288136   1.073446       496.0  2.802260     37.85   \n",
       "3  5.6431      52.0  5.817352   1.073059       558.0  2.547945     37.85   \n",
       "4  3.8462      52.0  6.281853   1.081081       565.0  2.181467     37.85   \n",
       "\n",
       "   Longitude  Target  \n",
       "0    -122.23   4.526  \n",
       "1    -122.22   3.585  \n",
       "2    -122.24   3.521  \n",
       "3    -122.25   3.413  \n",
       "4    -122.25   3.422  "
      ]
     },
     "execution_count": 238,
     "metadata": {},
     "output_type": "execute_result"
    }
   ],
   "source": [
    "df.head()"
   ]
  },
  {
   "cell_type": "code",
   "execution_count": 240,
   "id": "48926a96",
   "metadata": {},
   "outputs": [
    {
     "name": "stdout",
     "output_type": "stream",
     "text": [
      "<class 'pandas.core.frame.DataFrame'>\n",
      "RangeIndex: 20640 entries, 0 to 20639\n",
      "Data columns (total 9 columns):\n",
      " #   Column      Non-Null Count  Dtype  \n",
      "---  ------      --------------  -----  \n",
      " 0   MedInc      20640 non-null  float64\n",
      " 1   HouseAge    20640 non-null  float64\n",
      " 2   AveRooms    20640 non-null  float64\n",
      " 3   AveBedrms   20640 non-null  float64\n",
      " 4   Population  20640 non-null  float64\n",
      " 5   AveOccup    20640 non-null  float64\n",
      " 6   Latitude    20640 non-null  float64\n",
      " 7   Longitude   20640 non-null  float64\n",
      " 8   Target      20640 non-null  float64\n",
      "dtypes: float64(9)\n",
      "memory usage: 1.4 MB\n"
     ]
    }
   ],
   "source": [
    "df.info()"
   ]
  },
  {
   "cell_type": "markdown",
   "id": "4dbcfa37",
   "metadata": {},
   "source": [
    "### Preprocess the Data:"
   ]
  },
  {
   "cell_type": "code",
   "execution_count": 241,
   "id": "769560ee",
   "metadata": {},
   "outputs": [
    {
     "name": "stdout",
     "output_type": "stream",
     "text": [
      "MedInc        0\n",
      "HouseAge      0\n",
      "AveRooms      0\n",
      "AveBedrms     0\n",
      "Population    0\n",
      "AveOccup      0\n",
      "Latitude      0\n",
      "Longitude     0\n",
      "Target        0\n",
      "dtype: int64\n"
     ]
    }
   ],
   "source": [
    "missing_data = df.isnull().sum()\n",
    "print(missing_data)"
   ]
  },
  {
   "cell_type": "markdown",
   "id": "c83db5a9",
   "metadata": {},
   "source": [
    "### Categorical Variables:"
   ]
  },
  {
   "cell_type": "code",
   "execution_count": 242,
   "id": "333ca673",
   "metadata": {
    "scrolled": true
   },
   "outputs": [],
   "source": [
    "scaler = MinMaxScaler()\n",
    "df[df.columns[:-1]] = scaler.fit_transform(df[df.columns[:-1]])"
   ]
  },
  {
   "cell_type": "code",
   "execution_count": 243,
   "id": "96ccbe79",
   "metadata": {},
   "outputs": [],
   "source": [
    "df['HouseAge_Category'] = pd.cut(df['HouseAge'], bins=[0, 10, 20, np.inf], labels=['New', 'Old', 'Very Old'])"
   ]
  },
  {
   "cell_type": "code",
   "execution_count": 250,
   "id": "99ceafd0",
   "metadata": {},
   "outputs": [],
   "source": [
    "encoder = OneHotEncoder(drop='first', sparse_output=False)\n",
    "encoded_columns = pd.DataFrame(encoder.fit_transform(df[['HouseAge_Category']]), columns=encoder.get_feature_names_out(['HouseAge_Category']))"
   ]
  },
  {
   "cell_type": "code",
   "execution_count": 251,
   "id": "ad2971be",
   "metadata": {
    "scrolled": true
   },
   "outputs": [],
   "source": [
    "df = pd.concat([df, encoded_columns], axis=1)"
   ]
  },
  {
   "cell_type": "code",
   "execution_count": 252,
   "id": "23d2716b",
   "metadata": {
    "scrolled": true
   },
   "outputs": [],
   "source": [
    "df = df.drop('HouseAge_Category', axis=1)"
   ]
  },
  {
   "cell_type": "code",
   "execution_count": 253,
   "id": "0ac40176",
   "metadata": {},
   "outputs": [
    {
     "name": "stdout",
     "output_type": "stream",
     "text": [
      "     MedInc  HouseAge  AveRooms  AveBedrms  Population  AveOccup  Latitude  \\\n",
      "0  0.539668  0.784314  0.043512   0.020469    0.008941  0.001499  0.567481   \n",
      "1  0.538027  0.392157  0.038224   0.018929    0.067210  0.001141  0.565356   \n",
      "2  0.466028  1.000000  0.052756   0.021940    0.013818  0.001698  0.564293   \n",
      "3  0.354699  1.000000  0.035241   0.021929    0.015555  0.001493  0.564293   \n",
      "4  0.230776  1.000000  0.038534   0.022166    0.015752  0.001198  0.564293   \n",
      "\n",
      "   Longitude  HouseAge_Category_nan  \n",
      "0   0.211155                    0.0  \n",
      "1   0.212151                    0.0  \n",
      "2   0.210159                    0.0  \n",
      "3   0.209163                    0.0  \n",
      "4   0.209163                    0.0  \n"
     ]
    }
   ],
   "source": [
    "print(df_encoded.head())"
   ]
  },
  {
   "cell_type": "code",
   "execution_count": 254,
   "id": "50941059",
   "metadata": {},
   "outputs": [],
   "source": [
    "correlation_matrix = df_encoded.corr()"
   ]
  },
  {
   "cell_type": "code",
   "execution_count": 255,
   "id": "80909da5",
   "metadata": {
    "scrolled": false
   },
   "outputs": [
    {
     "data": {
      "image/png": "[encoded data removed]",
      "text/plain": [
       "<Figure size 480x480 with 2 Axes>"
      ]
     },
     "metadata": {},
     "output_type": "display_data"
    }
   ],
   "source": [
    "plt.matshow(correlation_matrix)\n",
    "plt.xticks(range(len(correlation_matrix.columns)), correlation_matrix.columns, rotation=90)\n",
    "plt.yticks(range(len(correlation_matrix.columns)), correlation_matrix.columns)\n",
    "plt.colorbar()\n",
    "plt.show()\n"
   ]
  },
  {
   "cell_type": "code",
   "execution_count": 256,
   "id": "12c64bd1",
   "metadata": {
    "scrolled": true
   },
   "outputs": [
    {
     "data": {
      "text/html": [
       "<div>\n",
       "<style scoped>\n",
       "    .dataframe tbody tr th:only-of-type {\n",
       "        vertical-align: middle;\n",
       "    }\n",
       "\n",
       "    .dataframe tbody tr th {\n",
       "        vertical-align: top;\n",
       "    }\n",
       "\n",
       "    .dataframe thead th {\n",
       "        text-align: right;\n",
       "    }\n",
       "</style>\n",
       "<table border=\"1\" class=\"dataframe\">\n",
       "  <thead>\n",
       "    <tr style=\"text-align: right;\">\n",
       "      <th></th>\n",
       "      <th>MedInc</th>\n",
       "      <th>HouseAge</th>\n",
       "      <th>AveRooms</th>\n",
       "      <th>AveBedrms</th>\n",
       "      <th>Population</th>\n",
       "      <th>AveOccup</th>\n",
       "      <th>Latitude</th>\n",
       "      <th>Longitude</th>\n",
       "      <th>Target</th>\n",
       "      <th>HouseAge_Category_nan</th>\n",
       "      <th>New_Feature</th>\n",
       "    </tr>\n",
       "  </thead>\n",
       "  <tbody>\n",
       "    <tr>\n",
       "      <th>0</th>\n",
       "      <td>0.539668</td>\n",
       "      <td>0.784314</td>\n",
       "      <td>0.043512</td>\n",
       "      <td>0.020469</td>\n",
       "      <td>0.008941</td>\n",
       "      <td>0.001499</td>\n",
       "      <td>0.567481</td>\n",
       "      <td>0.211155</td>\n",
       "      <td>4.526</td>\n",
       "      <td>0.0</td>\n",
       "      <td>0.583181</td>\n",
       "    </tr>\n",
       "    <tr>\n",
       "      <th>1</th>\n",
       "      <td>0.538027</td>\n",
       "      <td>0.392157</td>\n",
       "      <td>0.038224</td>\n",
       "      <td>0.018929</td>\n",
       "      <td>0.067210</td>\n",
       "      <td>0.001141</td>\n",
       "      <td>0.565356</td>\n",
       "      <td>0.212151</td>\n",
       "      <td>3.585</td>\n",
       "      <td>0.0</td>\n",
       "      <td>0.576251</td>\n",
       "    </tr>\n",
       "    <tr>\n",
       "      <th>2</th>\n",
       "      <td>0.466028</td>\n",
       "      <td>1.000000</td>\n",
       "      <td>0.052756</td>\n",
       "      <td>0.021940</td>\n",
       "      <td>0.013818</td>\n",
       "      <td>0.001698</td>\n",
       "      <td>0.564293</td>\n",
       "      <td>0.210159</td>\n",
       "      <td>3.521</td>\n",
       "      <td>0.0</td>\n",
       "      <td>0.518785</td>\n",
       "    </tr>\n",
       "    <tr>\n",
       "      <th>3</th>\n",
       "      <td>0.354699</td>\n",
       "      <td>1.000000</td>\n",
       "      <td>0.035241</td>\n",
       "      <td>0.021929</td>\n",
       "      <td>0.015555</td>\n",
       "      <td>0.001493</td>\n",
       "      <td>0.564293</td>\n",
       "      <td>0.209163</td>\n",
       "      <td>3.413</td>\n",
       "      <td>0.0</td>\n",
       "      <td>0.389940</td>\n",
       "    </tr>\n",
       "    <tr>\n",
       "      <th>4</th>\n",
       "      <td>0.230776</td>\n",
       "      <td>1.000000</td>\n",
       "      <td>0.038534</td>\n",
       "      <td>0.022166</td>\n",
       "      <td>0.015752</td>\n",
       "      <td>0.001198</td>\n",
       "      <td>0.564293</td>\n",
       "      <td>0.209163</td>\n",
       "      <td>3.422</td>\n",
       "      <td>0.0</td>\n",
       "      <td>0.269310</td>\n",
       "    </tr>\n",
       "  </tbody>\n",
       "</table>\n",
       "</div>"
      ],
      "text/plain": [
       "     MedInc  HouseAge  AveRooms  AveBedrms  Population  AveOccup  Latitude  \\\n",
       "0  0.539668  0.784314  0.043512   0.020469    0.008941  0.001499  0.567481   \n",
       "1  0.538027  0.392157  0.038224   0.018929    0.067210  0.001141  0.565356   \n",
       "2  0.466028  1.000000  0.052756   0.021940    0.013818  0.001698  0.564293   \n",
       "3  0.354699  1.000000  0.035241   0.021929    0.015555  0.001493  0.564293   \n",
       "4  0.230776  1.000000  0.038534   0.022166    0.015752  0.001198  0.564293   \n",
       "\n",
       "   Longitude  Target  HouseAge_Category_nan  New_Feature  \n",
       "0   0.211155   4.526                    0.0     0.583181  \n",
       "1   0.212151   3.585                    0.0     0.576251  \n",
       "2   0.210159   3.521                    0.0     0.518785  \n",
       "3   0.209163   3.413                    0.0     0.389940  \n",
       "4   0.209163   3.422                    0.0     0.269310  "
      ]
     },
     "execution_count": 256,
     "metadata": {},
     "output_type": "execute_result"
    }
   ],
   "source": [
    "df['New_Feature'] = df['MedInc'] + df['AveRooms']\n",
    "\n",
    "df.head()"
   ]
  },
  {
   "cell_type": "markdown",
   "id": "ad26ee29",
   "metadata": {},
   "source": [
    "## Part II"
   ]
  },
  {
   "cell_type": "code",
   "execution_count": 259,
   "id": "2f3d0383",
   "metadata": {},
   "outputs": [],
   "source": [
    "data = fetch_california_housing()\n",
    "df = pd.DataFrame(data['data'], columns=data['feature_names'])\n",
    "df['Target'] = data['target']"
   ]
  },
  {
   "cell_type": "code",
   "execution_count": 260,
   "id": "c4862410",
   "metadata": {
    "scrolled": true
   },
   "outputs": [],
   "source": [
    "df['AgeGroup'] = pd.cut(df['HouseAge'], bins=[-float('inf'), 10, 30, float('inf')],\n",
    "                        labels=['New', 'Old', 'Very Old'])"
   ]
  },
  {
   "cell_type": "code",
   "execution_count": 263,
   "id": "234fd4ac",
   "metadata": {},
   "outputs": [
    {
     "data": {
      "image/png": "[encoded data removed]",
      "text/plain": [
       "<Figure size 1000x600 with 1 Axes>"
      ]
     },
     "metadata": {},
     "output_type": "display_data"
    }
   ],
   "source": [
    "plt.figure(figsize=(10, 6))\n",
    "plt.hist(df[df['AgeGroup'] == 'New']['Target'], bins=30, alpha=0.5, label='New', color='green')\n",
    "plt.hist(df[df['AgeGroup'] == 'Old']['Target'], bins=30, alpha=0.5, label='Old', color='orange')\n",
    "plt.hist(df[df['AgeGroup'] == 'Very Old']['Target'], bins=30, alpha=0.5, label='Very Old', color='red')\n",
    "\n",
    "plt.xlabel('Median House Value')\n",
    "plt.ylabel('Frequency')\n",
    "plt.title('Property Age vs. Median House Value')\n",
    "plt.legend()\n",
    "plt.show()"
   ]
  },
  {
   "cell_type": "markdown",
   "id": "9a6660cf",
   "metadata": {},
   "source": [
    "## Part III"
   ]
  },
  {
   "cell_type": "code",
   "execution_count": 265,
   "id": "1dc191b0",
   "metadata": {},
   "outputs": [],
   "source": [
    "data = fetch_california_housing()\n",
    "df = pd.DataFrame(data['data'], columns=data['feature_names'])\n",
    "df['Target'] = data['target']"
   ]
  },
  {
   "cell_type": "code",
   "execution_count": 266,
   "id": "2291779b",
   "metadata": {},
   "outputs": [],
   "source": [
    "df['BinnedIncome'] = pd.cut(df['MedInc'], bins=[0, 3, 6, 9, 12, np.inf], labels=['Bin1', 'Bin2', 'Bin3', 'Bin4', 'Bin5'])"
   ]
  },
  {
   "cell_type": "code",
   "execution_count": 267,
   "id": "a74e8719",
   "metadata": {},
   "outputs": [],
   "source": [
    "grouped_data = df.groupby('BinnedIncome')['Target'].mean()"
   ]
  },
  {
   "cell_type": "code",
   "execution_count": 270,
   "id": "77ce5cd3",
   "metadata": {
    "scrolled": false
   },
   "outputs": [
    {
     "data": {
      "image/png": "[encoded data removed]",
      "text/plain": [
       "<Figure size 1000x600 with 1 Axes>"
      ]
     },
     "metadata": {},
     "output_type": "display_data"
    }
   ],
   "source": [
    "plt.figure(figsize=(10, 6))\n",
    "grouped_data.plot(marker='o', linestyle='-', color='b')\n",
    "plt.title('Impact of Neighborhood Median Income on Prices')\n",
    "plt.xlabel('Income Bin')\n",
    "plt.ylabel('Average Target')\n",
    "plt.grid(True)\n",
    "plt.show()"
   ]
  }
 ],
 "metadata": {
  "kernelspec": {
   "display_name": "Python 3 (ipykernel)",
   "language": "python",
   "name": "python3"
  },
  "language_info": {
   "codemirror_mode": {
    "name": "ipython",
    "version": 3
   },
   "file_extension": ".py",
   "mimetype": "text/x-python",
   "name": "python",
   "nbconvert_exporter": "python",
   "pygments_lexer": "ipython3",
   "version": "3.11.5"
  }
 },
 "nbformat": 4,
 "nbformat_minor": 5
}
