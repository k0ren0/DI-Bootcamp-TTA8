{
 "cells": [
  {
   "cell_type": "code",
   "execution_count": 6,
   "id": "64eba23a",
   "metadata": {},
   "outputs": [],
   "source": [
    "import numpy as np\n",
    "import pandas as pd"
   ]
  },
  {
   "cell_type": "code",
   "execution_count": 13,
   "id": "700ecffd",
   "metadata": {
    "scrolled": true
   },
   "outputs": [
    {
     "data": {
      "text/plain": [
       "array([52.22, 51.44, 51.98, 52.01, 52.82, 54.01, 53.8 , 53.75, 52.36,\n",
       "       53.26, 53.77, 53.98, 51.95, 50.82, 52.19, 53.01, 52.36, 52.45,\n",
       "       51.12, 51.39, 52.33, 52.77, 52.38, 52.14, 53.24, 53.18, 52.63,\n",
       "       52.75, 53.9 , 53.55, 53.81, 53.01, 52.19, 52.37, 52.99, 53.84,\n",
       "       52.96, 53.21, 53.11, 53.41, 53.41, 54.02, 53.61, 54.48, 53.99,\n",
       "       54.04, 54.  , 53.82, 52.63, 53.33, 53.19, 52.68, 49.83, 48.75,\n",
       "       48.05, 47.95, 47.24, 48.34, 48.3 , 48.34, 47.79, 47.02, 47.29,\n",
       "       47.  , 47.3 , 47.02, 48.36, 49.47, 50.3 , 50.54, 50.25, 50.99,\n",
       "       51.14, 51.69, 52.25, 53.06, 53.38, 53.12, 53.19, 52.62, 52.46,\n",
       "       50.49, 50.26, 49.64, 48.9 , 49.22, 49.22, 48.96, 49.31, 48.83,\n",
       "       47.65, 47.79, 45.55, 46.23, 46.46, 45.84, 47.28, 47.81, 47.83,\n",
       "       48.86])"
      ]
     },
     "execution_count": 13,
     "metadata": {},
     "output_type": "execute_result"
    }
   ],
   "source": [
    "# create a DataFrame from the oil file, drop missing values\n",
    "oil = pd.read_csv(\"./oil.csv\").dropna()\n",
    "#  pd.to_csv\n",
    "\n",
    "# Grab 100 rows of oil prices\n",
    "oil_array = np.array(oil[\"dcoilwtico\"].iloc[1000:1100])\n",
    "\n",
    "oil_array"
   ]
  },
  {
   "cell_type": "markdown",
   "id": "4f65efb8",
   "metadata": {},
   "source": [
    "NEW"
   ]
  },
  {
   "cell_type": "code",
   "execution_count": 19,
   "id": "74155855",
   "metadata": {},
   "outputs": [
    {
     "ename": "NameError",
     "evalue": "name 'sales_series' is not defined",
     "output_type": "error",
     "traceback": [
      "\u001b[0;31m---------------------------------------------------------------------------\u001b[0m",
      "\u001b[0;31mNameError\u001b[0m                                 Traceback (most recent call last)",
      "Cell \u001b[0;32mIn[19], line 2\u001b[0m\n\u001b[1;32m      1\u001b[0m items \u001b[38;5;241m=\u001b[39m [\u001b[38;5;124m\"\u001b[39m\u001b[38;5;124mcoffee\u001b[39m\u001b[38;5;124m\"\u001b[39m, \u001b[38;5;124m\"\u001b[39m\u001b[38;5;124mbananas\u001b[39m\u001b[38;5;124m\"\u001b[39m, \u001b[38;5;124m\"\u001b[39m\u001b[38;5;124mtea\u001b[39m\u001b[38;5;124m\"\u001b[39m, \u001b[38;5;124m\"\u001b[39m\u001b[38;5;124mcoconut\u001b[39m\u001b[38;5;124m\"\u001b[39m, \u001b[38;5;124m\"\u001b[39m\u001b[38;5;124msugar\u001b[39m\u001b[38;5;124m\"\u001b[39m]\n\u001b[0;32m----> 2\u001b[0m sales_items \u001b[38;5;241m=\u001b[39m sales_series[:\u001b[38;5;241m5\u001b[39m]\n\u001b[1;32m      3\u001b[0m sales_items\n",
      "\u001b[0;31mNameError\u001b[0m: name 'sales_series' is not defined"
     ]
    }
   ],
   "source": [
    "items = [\"coffee\", \"bananas\", \"tea\", \"coconut\", \"sugar\"]\n",
    "sales_items = sales_series[:5]\n",
    "sales_items"
   ]
  },
  {
   "cell_type": "code",
   "execution_count": 20,
   "id": "052b3d20",
   "metadata": {},
   "outputs": [
    {
     "data": {
      "text/html": [
       "<div>\n",
       "<style scoped>\n",
       "    .dataframe tbody tr th:only-of-type {\n",
       "        vertical-align: middle;\n",
       "    }\n",
       "\n",
       "    .dataframe tbody tr th {\n",
       "        vertical-align: top;\n",
       "    }\n",
       "\n",
       "    .dataframe thead th {\n",
       "        text-align: right;\n",
       "    }\n",
       "</style>\n",
       "<table border=\"1\" class=\"dataframe\">\n",
       "  <thead>\n",
       "    <tr style=\"text-align: right;\">\n",
       "      <th></th>\n",
       "      <th>date</th>\n",
       "      <th>dcoilwtico</th>\n",
       "    </tr>\n",
       "  </thead>\n",
       "  <tbody>\n",
       "    <tr>\n",
       "      <th>1</th>\n",
       "      <td>2013-01-02</td>\n",
       "      <td>93.14</td>\n",
       "    </tr>\n",
       "    <tr>\n",
       "      <th>2</th>\n",
       "      <td>2013-01-03</td>\n",
       "      <td>92.97</td>\n",
       "    </tr>\n",
       "    <tr>\n",
       "      <th>3</th>\n",
       "      <td>2013-01-04</td>\n",
       "      <td>93.12</td>\n",
       "    </tr>\n",
       "    <tr>\n",
       "      <th>4</th>\n",
       "      <td>2013-01-07</td>\n",
       "      <td>93.20</td>\n",
       "    </tr>\n",
       "    <tr>\n",
       "      <th>5</th>\n",
       "      <td>2013-01-08</td>\n",
       "      <td>93.21</td>\n",
       "    </tr>\n",
       "    <tr>\n",
       "      <th>...</th>\n",
       "      <td>...</td>\n",
       "      <td>...</td>\n",
       "    </tr>\n",
       "    <tr>\n",
       "      <th>1213</th>\n",
       "      <td>2017-08-25</td>\n",
       "      <td>47.65</td>\n",
       "    </tr>\n",
       "    <tr>\n",
       "      <th>1214</th>\n",
       "      <td>2017-08-28</td>\n",
       "      <td>46.40</td>\n",
       "    </tr>\n",
       "    <tr>\n",
       "      <th>1215</th>\n",
       "      <td>2017-08-29</td>\n",
       "      <td>46.46</td>\n",
       "    </tr>\n",
       "    <tr>\n",
       "      <th>1216</th>\n",
       "      <td>2017-08-30</td>\n",
       "      <td>45.96</td>\n",
       "    </tr>\n",
       "    <tr>\n",
       "      <th>1217</th>\n",
       "      <td>2017-08-31</td>\n",
       "      <td>47.26</td>\n",
       "    </tr>\n",
       "  </tbody>\n",
       "</table>\n",
       "<p>1175 rows × 2 columns</p>\n",
       "</div>"
      ],
      "text/plain": [
       "            date  dcoilwtico\n",
       "1     2013-01-02       93.14\n",
       "2     2013-01-03       92.97\n",
       "3     2013-01-04       93.12\n",
       "4     2013-01-07       93.20\n",
       "5     2013-01-08       93.21\n",
       "...          ...         ...\n",
       "1213  2017-08-25       47.65\n",
       "1214  2017-08-28       46.40\n",
       "1215  2017-08-29       46.46\n",
       "1216  2017-08-30       45.96\n",
       "1217  2017-08-31       47.26\n",
       "\n",
       "[1175 rows x 2 columns]"
      ]
     },
     "execution_count": 20,
     "metadata": {},
     "output_type": "execute_result"
    }
   ],
   "source": [
    "# create a DataFrame from the oil file, drop missing values\n",
    "oil = pd.read_csv(\"./oil.csv\").dropna()\n",
    "oil"
   ]
  },
  {
   "cell_type": "code",
   "execution_count": 24,
   "id": "5f4d0e6b",
   "metadata": {},
   "outputs": [
    {
     "data": {
      "text/plain": [
       "1       2013-01-02\n",
       "2       2013-01-03\n",
       "3       2013-01-04\n",
       "4       2013-01-07\n",
       "5       2013-01-08\n",
       "           ...    \n",
       "1213    2017-08-25\n",
       "1214    2017-08-28\n",
       "1215    2017-08-29\n",
       "1216    2017-08-30\n",
       "1217    2017-08-31\n",
       "Name: date, Length: 1175, dtype: object"
      ]
     },
     "execution_count": 24,
     "metadata": {},
     "output_type": "execute_result"
    }
   ],
   "source": [
    "oil[\"date\"]"
   ]
  },
  {
   "cell_type": "code",
   "execution_count": 26,
   "id": "177dbbcf",
   "metadata": {},
   "outputs": [
    {
     "data": {
      "text/plain": [
       "1035    2016-12-20\n",
       "1036    2016-12-21\n",
       "1037    2016-12-22\n",
       "1038    2016-12-23\n",
       "1040    2016-12-27\n",
       "           ...    \n",
       "1135    2017-05-09\n",
       "1136    2017-05-10\n",
       "1137    2017-05-11\n",
       "1138    2017-05-12\n",
       "1139    2017-05-15\n",
       "Name: date, Length: 100, dtype: object"
      ]
     },
     "execution_count": 26,
     "metadata": {},
     "output_type": "execute_result"
    }
   ],
   "source": [
    "dates = pd.Series(oil[\"date\"]).iloc[1000:1100]\n",
    "dates"
   ]
  },
  {
   "cell_type": "code",
   "execution_count": 27,
   "id": "6e73a137",
   "metadata": {},
   "outputs": [
    {
     "ename": "NameError",
     "evalue": "name 'oil_series' is not defined",
     "output_type": "error",
     "traceback": [
      "\u001b[0;31m---------------------------------------------------------------------------\u001b[0m",
      "\u001b[0;31mNameError\u001b[0m                                 Traceback (most recent call last)",
      "Cell \u001b[0;32mIn[27], line 1\u001b[0m\n\u001b[0;32m----> 1\u001b[0m oil_series\u001b[38;5;241m.\u001b[39mindex \u001b[38;5;241m=\u001b[39m dates\n\u001b[1;32m      2\u001b[0m oil_series\n",
      "\u001b[0;31mNameError\u001b[0m: name 'oil_series' is not defined"
     ]
    }
   ],
   "source": [
    "oil_series.index = dates\n",
    "oil_series"
   ]
  },
  {
   "cell_type": "code",
   "execution_count": 42,
   "id": "9a6992e8",
   "metadata": {},
   "outputs": [
    {
     "data": {
      "text/plain": [
       "0      0\n",
       "1      5\n",
       "2    155\n",
       "3      0\n",
       "4    518\n",
       "Name: Sales, dtype: int64"
      ]
     },
     "execution_count": 42,
     "metadata": {},
     "output_type": "execute_result"
    }
   ],
   "source": [
    "sales = [0, 5, 155, 0, 518, 9, 1827, 616,317, 325]\n",
    "sales_series = pd.Series(sales, name=\"Sales\")\n",
    "sales_series = sales_series[:5]\n",
    "sales_series"
   ]
  },
  {
   "cell_type": "code",
   "execution_count": 33,
   "id": "c674c61b",
   "metadata": {},
   "outputs": [
    {
     "data": {
      "text/plain": [
       "1      5\n",
       "2    155\n",
       "4    518\n",
       "Name: Sales, dtype: int64"
      ]
     },
     "execution_count": 33,
     "metadata": {},
     "output_type": "execute_result"
    }
   ],
   "source": [
    "sales_series.loc[sales_series > 0]b"
   ]
  },
  {
   "cell_type": "code",
   "execution_count": 34,
   "id": "8a7bce52",
   "metadata": {},
   "outputs": [
    {
     "data": {
      "text/plain": [
       "0    False\n",
       "1     True\n",
       "2     True\n",
       "3    False\n",
       "4     True\n",
       "Name: Sales, dtype: bool"
      ]
     },
     "execution_count": 34,
     "metadata": {},
     "output_type": "execute_result"
    }
   ],
   "source": [
    "sales_series > 0"
   ]
  },
  {
   "cell_type": "code",
   "execution_count": 43,
   "id": "a9edea0e",
   "metadata": {},
   "outputs": [
    {
     "data": {
      "text/plain": [
       "Series([], Name: Sales, dtype: int64)"
      ]
     },
     "execution_count": 43,
     "metadata": {},
     "output_type": "execute_result"
    }
   ],
   "source": [
    "sales_series.index = items\n",
    "mask = (sales_series > 0) & (sales_series.index == \"coffee\")\n",
    "sales_series.loc[mask]"
   ]
  },
  {
   "cell_type": "code",
   "execution_count": 44,
   "id": "69090074",
   "metadata": {},
   "outputs": [
    {
     "data": {
      "text/plain": [
       "coffee     False\n",
       "bananas     True\n",
       "tea        False\n",
       "coconut    False\n",
       "sugar      False\n",
       "Name: Sales, dtype: bool"
      ]
     },
     "execution_count": 44,
     "metadata": {},
     "output_type": "execute_result"
    }
   ],
   "source": [
    "sales_series == 5"
   ]
  },
  {
   "cell_type": "code",
   "execution_count": 45,
   "id": "b9ff100d",
   "metadata": {},
   "outputs": [
    {
     "data": {
      "text/plain": [
       "coffee     False\n",
       "bananas     True\n",
       "tea        False\n",
       "coconut    False\n",
       "sugar      False\n",
       "Name: Sales, dtype: bool"
      ]
     },
     "execution_count": 45,
     "metadata": {},
     "output_type": "execute_result"
    }
   ],
   "source": [
    "sales_series.eq(5)"
   ]
  },
  {
   "cell_type": "code",
   "execution_count": 46,
   "id": "9efff329",
   "metadata": {},
   "outputs": [
    {
     "data": {
      "text/plain": [
       "array([ True, False,  True, False, False])"
      ]
     },
     "execution_count": 46,
     "metadata": {},
     "output_type": "execute_result"
    }
   ],
   "source": [
    "sales_series.index.isin([\"coffee\", \"tea\"])"
   ]
  },
  {
   "cell_type": "code",
   "execution_count": 47,
   "id": "52ae3498",
   "metadata": {},
   "outputs": [
    {
     "data": {
      "text/plain": [
       "array([False,  True, False,  True,  True])"
      ]
     },
     "execution_count": 47,
     "metadata": {},
     "output_type": "execute_result"
    }
   ],
   "source": [
    "~sales_series.index.isin([\"coffee\", \"tea\"])"
   ]
  },
  {
   "cell_type": "markdown",
   "id": "dd572ecb",
   "metadata": {},
   "source": [
    "SORTING"
   ]
  },
  {
   "cell_type": "code",
   "execution_count": 50,
   "id": "04cbe8e8",
   "metadata": {},
   "outputs": [
    {
     "data": {
      "text/plain": [
       "coffee       0\n",
       "coconut      0\n",
       "bananas      5\n",
       "tea        155\n",
       "sugar      518\n",
       "Name: Sales, dtype: int64"
      ]
     },
     "execution_count": 50,
     "metadata": {},
     "output_type": "execute_result"
    }
   ],
   "source": [
    "sales_series.sort_values(ascending=True)"
   ]
  },
  {
   "cell_type": "code",
   "execution_count": 51,
   "id": "da5f45d2",
   "metadata": {},
   "outputs": [
    {
     "data": {
      "text/plain": [
       "bananas      5\n",
       "coconut      0\n",
       "coffee       0\n",
       "sugar      518\n",
       "tea        155\n",
       "Name: Sales, dtype: int64"
      ]
     },
     "execution_count": 51,
     "metadata": {},
     "output_type": "execute_result"
    }
   ],
   "source": [
    "sales_series.sort_index(ascending=True)"
   ]
  },
  {
   "cell_type": "markdown",
   "id": "a0c198e3",
   "metadata": {},
   "source": [
    "# Assignment 3: Sorting and Filtering Series\n",
    "\n",
    "* First, get the 10 lowest prices from the data. \n",
    "* Sort the 10 lowest prices by date, starting with the most recent and ending with the oldest price.\n",
    "\n",
    "* Finally, use the list of provided dates. Select only rows with these dates that had a price of less than 50 dollars per barrel."
   ]
  },
  {
   "cell_type": "code",
   "execution_count": 68,
   "id": "7e91c75b",
   "metadata": {},
   "outputs": [
    {
     "data": {
      "text/plain": [
       "['2016-12-22',\n",
       " '2017-05-03',\n",
       " '2017-01-06',\n",
       " '2017-03-05',\n",
       " '2017-02-12',\n",
       " '2017-03-21',\n",
       " '2017-04-14',\n",
       " '2017-04-15']"
      ]
     },
     "execution_count": 68,
     "metadata": {},
     "output_type": "execute_result"
    }
   ],
   "source": [
    "# list of dates to be used to solve bullet 3\n",
    "\n",
    "dates = [\n",
    "    \"2016-12-22\",\n",
    "    \"2017-05-03\",\n",
    "    \"2017-01-06\",\n",
    "    \"2017-03-05\",\n",
    "    \"2017-02-12\",\n",
    "    \"2017-03-21\",\n",
    "    \"2017-04-14\",\n",
    "    \"2017-04-15\",\n",
    "]\n",
    "dates"
   ]
  },
  {
   "cell_type": "code",
   "execution_count": 54,
   "id": "45ecf882",
   "metadata": {},
   "outputs": [
    {
     "data": {
      "text/html": [
       "<div>\n",
       "<style scoped>\n",
       "    .dataframe tbody tr th:only-of-type {\n",
       "        vertical-align: middle;\n",
       "    }\n",
       "\n",
       "    .dataframe tbody tr th {\n",
       "        vertical-align: top;\n",
       "    }\n",
       "\n",
       "    .dataframe thead th {\n",
       "        text-align: right;\n",
       "    }\n",
       "</style>\n",
       "<table border=\"1\" class=\"dataframe\">\n",
       "  <thead>\n",
       "    <tr style=\"text-align: right;\">\n",
       "      <th></th>\n",
       "      <th>date</th>\n",
       "      <th>dcoilwtico</th>\n",
       "    </tr>\n",
       "  </thead>\n",
       "  <tbody>\n",
       "    <tr>\n",
       "      <th>1</th>\n",
       "      <td>2013-01-02</td>\n",
       "      <td>93.14</td>\n",
       "    </tr>\n",
       "    <tr>\n",
       "      <th>2</th>\n",
       "      <td>2013-01-03</td>\n",
       "      <td>92.97</td>\n",
       "    </tr>\n",
       "    <tr>\n",
       "      <th>3</th>\n",
       "      <td>2013-01-04</td>\n",
       "      <td>93.12</td>\n",
       "    </tr>\n",
       "    <tr>\n",
       "      <th>4</th>\n",
       "      <td>2013-01-07</td>\n",
       "      <td>93.20</td>\n",
       "    </tr>\n",
       "    <tr>\n",
       "      <th>5</th>\n",
       "      <td>2013-01-08</td>\n",
       "      <td>93.21</td>\n",
       "    </tr>\n",
       "    <tr>\n",
       "      <th>...</th>\n",
       "      <td>...</td>\n",
       "      <td>...</td>\n",
       "    </tr>\n",
       "    <tr>\n",
       "      <th>1213</th>\n",
       "      <td>2017-08-25</td>\n",
       "      <td>47.65</td>\n",
       "    </tr>\n",
       "    <tr>\n",
       "      <th>1214</th>\n",
       "      <td>2017-08-28</td>\n",
       "      <td>46.40</td>\n",
       "    </tr>\n",
       "    <tr>\n",
       "      <th>1215</th>\n",
       "      <td>2017-08-29</td>\n",
       "      <td>46.46</td>\n",
       "    </tr>\n",
       "    <tr>\n",
       "      <th>1216</th>\n",
       "      <td>2017-08-30</td>\n",
       "      <td>45.96</td>\n",
       "    </tr>\n",
       "    <tr>\n",
       "      <th>1217</th>\n",
       "      <td>2017-08-31</td>\n",
       "      <td>47.26</td>\n",
       "    </tr>\n",
       "  </tbody>\n",
       "</table>\n",
       "<p>1175 rows × 2 columns</p>\n",
       "</div>"
      ],
      "text/plain": [
       "            date  dcoilwtico\n",
       "1     2013-01-02       93.14\n",
       "2     2013-01-03       92.97\n",
       "3     2013-01-04       93.12\n",
       "4     2013-01-07       93.20\n",
       "5     2013-01-08       93.21\n",
       "...          ...         ...\n",
       "1213  2017-08-25       47.65\n",
       "1214  2017-08-28       46.40\n",
       "1215  2017-08-29       46.46\n",
       "1216  2017-08-30       45.96\n",
       "1217  2017-08-31       47.26\n",
       "\n",
       "[1175 rows x 2 columns]"
      ]
     },
     "execution_count": 54,
     "metadata": {},
     "output_type": "execute_result"
    }
   ],
   "source": [
    "# Assuming you have already read the data and dropped missing values\n",
    "oil = pd.read_csv(\"./oil.csv\").dropna()\n",
    "oil"
   ]
  },
  {
   "cell_type": "code",
   "execution_count": 59,
   "id": "b44f60b2",
   "metadata": {},
   "outputs": [
    {
     "data": {
      "text/html": [
       "<div>\n",
       "<style scoped>\n",
       "    .dataframe tbody tr th:only-of-type {\n",
       "        vertical-align: middle;\n",
       "    }\n",
       "\n",
       "    .dataframe tbody tr th {\n",
       "        vertical-align: top;\n",
       "    }\n",
       "\n",
       "    .dataframe thead th {\n",
       "        text-align: right;\n",
       "    }\n",
       "</style>\n",
       "<table border=\"1\" class=\"dataframe\">\n",
       "  <thead>\n",
       "    <tr style=\"text-align: right;\">\n",
       "      <th></th>\n",
       "      <th>date</th>\n",
       "      <th>dcoilwtico</th>\n",
       "    </tr>\n",
       "  </thead>\n",
       "  <tbody>\n",
       "    <tr>\n",
       "      <th>812</th>\n",
       "      <td>2016-02-11</td>\n",
       "      <td>26.19</td>\n",
       "    </tr>\n",
       "    <tr>\n",
       "      <th>796</th>\n",
       "      <td>2016-01-20</td>\n",
       "      <td>26.68</td>\n",
       "    </tr>\n",
       "    <tr>\n",
       "      <th>811</th>\n",
       "      <td>2016-02-10</td>\n",
       "      <td>27.54</td>\n",
       "    </tr>\n",
       "    <tr>\n",
       "      <th>810</th>\n",
       "      <td>2016-02-09</td>\n",
       "      <td>27.96</td>\n",
       "    </tr>\n",
       "    <tr>\n",
       "      <th>795</th>\n",
       "      <td>2016-01-19</td>\n",
       "      <td>28.47</td>\n",
       "    </tr>\n",
       "    <tr>\n",
       "      <th>815</th>\n",
       "      <td>2016-02-16</td>\n",
       "      <td>29.05</td>\n",
       "    </tr>\n",
       "    <tr>\n",
       "      <th>813</th>\n",
       "      <td>2016-02-12</td>\n",
       "      <td>29.32</td>\n",
       "    </tr>\n",
       "    <tr>\n",
       "      <th>793</th>\n",
       "      <td>2016-01-15</td>\n",
       "      <td>29.45</td>\n",
       "    </tr>\n",
       "    <tr>\n",
       "      <th>800</th>\n",
       "      <td>2016-01-26</td>\n",
       "      <td>29.54</td>\n",
       "    </tr>\n",
       "    <tr>\n",
       "      <th>797</th>\n",
       "      <td>2016-01-21</td>\n",
       "      <td>29.55</td>\n",
       "    </tr>\n",
       "  </tbody>\n",
       "</table>\n",
       "</div>"
      ],
      "text/plain": [
       "           date  dcoilwtico\n",
       "812  2016-02-11       26.19\n",
       "796  2016-01-20       26.68\n",
       "811  2016-02-10       27.54\n",
       "810  2016-02-09       27.96\n",
       "795  2016-01-19       28.47\n",
       "815  2016-02-16       29.05\n",
       "813  2016-02-12       29.32\n",
       "793  2016-01-15       29.45\n",
       "800  2016-01-26       29.54\n",
       "797  2016-01-21       29.55"
      ]
     },
     "execution_count": 59,
     "metadata": {},
     "output_type": "execute_result"
    }
   ],
   "source": [
    "# Step 1: Get the 10 lowest prices\n",
    "lowest_prices = oil.nsmallest(10, 'dcoilwtico')\n",
    "lowest_prices"
   ]
  },
  {
   "cell_type": "code",
   "execution_count": 60,
   "id": "6dd91df0",
   "metadata": {},
   "outputs": [
    {
     "data": {
      "text/html": [
       "<div>\n",
       "<style scoped>\n",
       "    .dataframe tbody tr th:only-of-type {\n",
       "        vertical-align: middle;\n",
       "    }\n",
       "\n",
       "    .dataframe tbody tr th {\n",
       "        vertical-align: top;\n",
       "    }\n",
       "\n",
       "    .dataframe thead th {\n",
       "        text-align: right;\n",
       "    }\n",
       "</style>\n",
       "<table border=\"1\" class=\"dataframe\">\n",
       "  <thead>\n",
       "    <tr style=\"text-align: right;\">\n",
       "      <th></th>\n",
       "      <th>date</th>\n",
       "      <th>dcoilwtico</th>\n",
       "    </tr>\n",
       "  </thead>\n",
       "  <tbody>\n",
       "    <tr>\n",
       "      <th>815</th>\n",
       "      <td>2016-02-16</td>\n",
       "      <td>29.05</td>\n",
       "    </tr>\n",
       "    <tr>\n",
       "      <th>813</th>\n",
       "      <td>2016-02-12</td>\n",
       "      <td>29.32</td>\n",
       "    </tr>\n",
       "    <tr>\n",
       "      <th>812</th>\n",
       "      <td>2016-02-11</td>\n",
       "      <td>26.19</td>\n",
       "    </tr>\n",
       "    <tr>\n",
       "      <th>811</th>\n",
       "      <td>2016-02-10</td>\n",
       "      <td>27.54</td>\n",
       "    </tr>\n",
       "    <tr>\n",
       "      <th>810</th>\n",
       "      <td>2016-02-09</td>\n",
       "      <td>27.96</td>\n",
       "    </tr>\n",
       "    <tr>\n",
       "      <th>800</th>\n",
       "      <td>2016-01-26</td>\n",
       "      <td>29.54</td>\n",
       "    </tr>\n",
       "    <tr>\n",
       "      <th>797</th>\n",
       "      <td>2016-01-21</td>\n",
       "      <td>29.55</td>\n",
       "    </tr>\n",
       "    <tr>\n",
       "      <th>796</th>\n",
       "      <td>2016-01-20</td>\n",
       "      <td>26.68</td>\n",
       "    </tr>\n",
       "    <tr>\n",
       "      <th>795</th>\n",
       "      <td>2016-01-19</td>\n",
       "      <td>28.47</td>\n",
       "    </tr>\n",
       "    <tr>\n",
       "      <th>793</th>\n",
       "      <td>2016-01-15</td>\n",
       "      <td>29.45</td>\n",
       "    </tr>\n",
       "  </tbody>\n",
       "</table>\n",
       "</div>"
      ],
      "text/plain": [
       "           date  dcoilwtico\n",
       "815  2016-02-16       29.05\n",
       "813  2016-02-12       29.32\n",
       "812  2016-02-11       26.19\n",
       "811  2016-02-10       27.54\n",
       "810  2016-02-09       27.96\n",
       "800  2016-01-26       29.54\n",
       "797  2016-01-21       29.55\n",
       "796  2016-01-20       26.68\n",
       "795  2016-01-19       28.47\n",
       "793  2016-01-15       29.45"
      ]
     },
     "execution_count": 60,
     "metadata": {},
     "output_type": "execute_result"
    }
   ],
   "source": [
    "# Step 2: Sort the 10 lowest prices by date\n",
    "lowest_prices_sorted = lowest_prices.sort_values(by='date', ascending=False)\n",
    "lowest_prices_sorted"
   ]
  },
  {
   "cell_type": "code",
   "execution_count": 73,
   "id": "d8373e34",
   "metadata": {},
   "outputs": [
    {
     "data": {
      "text/html": [
       "<div>\n",
       "<style scoped>\n",
       "    .dataframe tbody tr th:only-of-type {\n",
       "        vertical-align: middle;\n",
       "    }\n",
       "\n",
       "    .dataframe tbody tr th {\n",
       "        vertical-align: top;\n",
       "    }\n",
       "\n",
       "    .dataframe thead th {\n",
       "        text-align: right;\n",
       "    }\n",
       "</style>\n",
       "<table border=\"1\" class=\"dataframe\">\n",
       "  <thead>\n",
       "    <tr style=\"text-align: right;\">\n",
       "      <th></th>\n",
       "      <th>date</th>\n",
       "      <th>dcoilwtico</th>\n",
       "    </tr>\n",
       "  </thead>\n",
       "  <tbody>\n",
       "    <tr>\n",
       "      <th>1091</th>\n",
       "      <td>2017-03-08</td>\n",
       "      <td>49.83</td>\n",
       "    </tr>\n",
       "    <tr>\n",
       "      <th>1092</th>\n",
       "      <td>2017-03-09</td>\n",
       "      <td>48.75</td>\n",
       "    </tr>\n",
       "    <tr>\n",
       "      <th>1093</th>\n",
       "      <td>2017-03-10</td>\n",
       "      <td>48.05</td>\n",
       "    </tr>\n",
       "    <tr>\n",
       "      <th>1094</th>\n",
       "      <td>2017-03-13</td>\n",
       "      <td>47.95</td>\n",
       "    </tr>\n",
       "    <tr>\n",
       "      <th>1095</th>\n",
       "      <td>2017-03-14</td>\n",
       "      <td>47.24</td>\n",
       "    </tr>\n",
       "    <tr>\n",
       "      <th>1096</th>\n",
       "      <td>2017-03-15</td>\n",
       "      <td>48.34</td>\n",
       "    </tr>\n",
       "    <tr>\n",
       "      <th>1097</th>\n",
       "      <td>2017-03-16</td>\n",
       "      <td>48.30</td>\n",
       "    </tr>\n",
       "    <tr>\n",
       "      <th>1098</th>\n",
       "      <td>2017-03-17</td>\n",
       "      <td>48.34</td>\n",
       "    </tr>\n",
       "    <tr>\n",
       "      <th>1099</th>\n",
       "      <td>2017-03-20</td>\n",
       "      <td>47.79</td>\n",
       "    </tr>\n",
       "    <tr>\n",
       "      <th>1100</th>\n",
       "      <td>2017-03-21</td>\n",
       "      <td>47.02</td>\n",
       "    </tr>\n",
       "    <tr>\n",
       "      <th>1101</th>\n",
       "      <td>2017-03-22</td>\n",
       "      <td>47.29</td>\n",
       "    </tr>\n",
       "    <tr>\n",
       "      <th>1102</th>\n",
       "      <td>2017-03-23</td>\n",
       "      <td>47.00</td>\n",
       "    </tr>\n",
       "    <tr>\n",
       "      <th>1103</th>\n",
       "      <td>2017-03-24</td>\n",
       "      <td>47.30</td>\n",
       "    </tr>\n",
       "    <tr>\n",
       "      <th>1104</th>\n",
       "      <td>2017-03-27</td>\n",
       "      <td>47.02</td>\n",
       "    </tr>\n",
       "    <tr>\n",
       "      <th>1105</th>\n",
       "      <td>2017-03-28</td>\n",
       "      <td>48.36</td>\n",
       "    </tr>\n",
       "    <tr>\n",
       "      <th>1106</th>\n",
       "      <td>2017-03-29</td>\n",
       "      <td>49.47</td>\n",
       "    </tr>\n",
       "    <tr>\n",
       "      <th>1123</th>\n",
       "      <td>2017-04-21</td>\n",
       "      <td>49.64</td>\n",
       "    </tr>\n",
       "    <tr>\n",
       "      <th>1124</th>\n",
       "      <td>2017-04-24</td>\n",
       "      <td>48.90</td>\n",
       "    </tr>\n",
       "    <tr>\n",
       "      <th>1125</th>\n",
       "      <td>2017-04-25</td>\n",
       "      <td>49.22</td>\n",
       "    </tr>\n",
       "    <tr>\n",
       "      <th>1126</th>\n",
       "      <td>2017-04-26</td>\n",
       "      <td>49.22</td>\n",
       "    </tr>\n",
       "    <tr>\n",
       "      <th>1127</th>\n",
       "      <td>2017-04-27</td>\n",
       "      <td>48.96</td>\n",
       "    </tr>\n",
       "    <tr>\n",
       "      <th>1128</th>\n",
       "      <td>2017-04-28</td>\n",
       "      <td>49.31</td>\n",
       "    </tr>\n",
       "    <tr>\n",
       "      <th>1129</th>\n",
       "      <td>2017-05-01</td>\n",
       "      <td>48.83</td>\n",
       "    </tr>\n",
       "    <tr>\n",
       "      <th>1130</th>\n",
       "      <td>2017-05-02</td>\n",
       "      <td>47.65</td>\n",
       "    </tr>\n",
       "    <tr>\n",
       "      <th>1131</th>\n",
       "      <td>2017-05-03</td>\n",
       "      <td>47.79</td>\n",
       "    </tr>\n",
       "    <tr>\n",
       "      <th>1132</th>\n",
       "      <td>2017-05-04</td>\n",
       "      <td>45.55</td>\n",
       "    </tr>\n",
       "    <tr>\n",
       "      <th>1133</th>\n",
       "      <td>2017-05-05</td>\n",
       "      <td>46.23</td>\n",
       "    </tr>\n",
       "    <tr>\n",
       "      <th>1134</th>\n",
       "      <td>2017-05-08</td>\n",
       "      <td>46.46</td>\n",
       "    </tr>\n",
       "    <tr>\n",
       "      <th>1135</th>\n",
       "      <td>2017-05-09</td>\n",
       "      <td>45.84</td>\n",
       "    </tr>\n",
       "    <tr>\n",
       "      <th>1136</th>\n",
       "      <td>2017-05-10</td>\n",
       "      <td>47.28</td>\n",
       "    </tr>\n",
       "    <tr>\n",
       "      <th>1137</th>\n",
       "      <td>2017-05-11</td>\n",
       "      <td>47.81</td>\n",
       "    </tr>\n",
       "    <tr>\n",
       "      <th>1138</th>\n",
       "      <td>2017-05-12</td>\n",
       "      <td>47.83</td>\n",
       "    </tr>\n",
       "    <tr>\n",
       "      <th>1139</th>\n",
       "      <td>2017-05-15</td>\n",
       "      <td>48.86</td>\n",
       "    </tr>\n",
       "  </tbody>\n",
       "</table>\n",
       "</div>"
      ],
      "text/plain": [
       "            date  dcoilwtico\n",
       "1091  2017-03-08       49.83\n",
       "1092  2017-03-09       48.75\n",
       "1093  2017-03-10       48.05\n",
       "1094  2017-03-13       47.95\n",
       "1095  2017-03-14       47.24\n",
       "1096  2017-03-15       48.34\n",
       "1097  2017-03-16       48.30\n",
       "1098  2017-03-17       48.34\n",
       "1099  2017-03-20       47.79\n",
       "1100  2017-03-21       47.02\n",
       "1101  2017-03-22       47.29\n",
       "1102  2017-03-23       47.00\n",
       "1103  2017-03-24       47.30\n",
       "1104  2017-03-27       47.02\n",
       "1105  2017-03-28       48.36\n",
       "1106  2017-03-29       49.47\n",
       "1123  2017-04-21       49.64\n",
       "1124  2017-04-24       48.90\n",
       "1125  2017-04-25       49.22\n",
       "1126  2017-04-26       49.22\n",
       "1127  2017-04-27       48.96\n",
       "1128  2017-04-28       49.31\n",
       "1129  2017-05-01       48.83\n",
       "1130  2017-05-02       47.65\n",
       "1131  2017-05-03       47.79\n",
       "1132  2017-05-04       45.55\n",
       "1133  2017-05-05       46.23\n",
       "1134  2017-05-08       46.46\n",
       "1135  2017-05-09       45.84\n",
       "1136  2017-05-10       47.28\n",
       "1137  2017-05-11       47.81\n",
       "1138  2017-05-12       47.83\n",
       "1139  2017-05-15       48.86"
      ]
     },
     "execution_count": 73,
     "metadata": {},
     "output_type": "execute_result"
    }
   ],
   "source": [
    "# Step 3: Use the list of provided dates and filter rows with prices less than 50 dollars per barrel\n",
    "filtered_prices = oil[(oil['date'].isin(provided_dates)) & (oil['dcoilwtico'] < 50)]\n",
    "filtered_prices"
   ]
  },
  {
   "cell_type": "code",
   "execution_count": 76,
   "id": "08e42f69",
   "metadata": {},
   "outputs": [
    {
     "data": {
      "text/plain": [
       "coffee       0\n",
       "bananas      5\n",
       "tea        155\n",
       "coconut      0\n",
       "sugar      518\n",
       "Name: Sales, dtype: int64"
      ]
     },
     "execution_count": 76,
     "metadata": {},
     "output_type": "execute_result"
    }
   ],
   "source": [
    "sales_series"
   ]
  },
  {
   "cell_type": "code",
   "execution_count": 81,
   "id": "a55d6ac6",
   "metadata": {},
   "outputs": [
    {
     "data": {
      "text/plain": [
       "coffee       0\n",
       "bananas      5\n",
       "tea        155\n",
       "coconut      0\n",
       "sugar      518\n",
       "Name: Sales, dtype: string"
      ]
     },
     "execution_count": 81,
     "metadata": {},
     "output_type": "execute_result"
    }
   ],
   "source": [
    "dollar_sales_series = \"5\"\n",
    "sales_series = sales_series.astype(\"string\")\n",
    "sales_series"
   ]
  },
  {
   "cell_type": "code",
   "execution_count": 82,
   "id": "6830fbfc",
   "metadata": {},
   "outputs": [
    {
     "data": {
      "text/plain": [
       "'5'"
      ]
     },
     "execution_count": 82,
     "metadata": {},
     "output_type": "execute_result"
    }
   ],
   "source": [
    "dollar_sales_series"
   ]
  },
  {
   "cell_type": "code",
   "execution_count": 85,
   "id": "4b3265d5",
   "metadata": {},
   "outputs": [
    {
     "data": {
      "text/plain": [
       "coffee       $0\n",
       "bananas      $5\n",
       "tea        $155\n",
       "coconut      $0\n",
       "sugar      $518\n",
       "Name: Sales, dtype: string"
      ]
     },
     "execution_count": 85,
     "metadata": {},
     "output_type": "execute_result"
    }
   ],
   "source": [
    "dollar_sales_series = \"$\" + sales_series.astype(\"string\")\n",
    "dollar_sales_series"
   ]
  },
  {
   "cell_type": "code",
   "execution_count": 86,
   "id": "bf30ab6e",
   "metadata": {},
   "outputs": [
    {
     "data": {
      "text/plain": [
       "coffee     1\n",
       "bananas    0\n",
       "tea        0\n",
       "coconut    1\n",
       "sugar      0\n",
       "Name: Sales, dtype: Int64"
      ]
     },
     "execution_count": 86,
     "metadata": {},
     "output_type": "execute_result"
    }
   ],
   "source": [
    "dollar_sales_series.str.count(\"0\") #. astype(\"fLoat\")"
   ]
  },
  {
   "cell_type": "markdown",
   "id": "e59135af",
   "metadata": {},
   "source": [
    "### Assignment 4: Series Operations\n",
    "\n",
    "* Increase the prices in the oil series by 10%, and add an additional 2 dollars per barrel on top of that.\n",
    "\n",
    "* Then, create a series that represents the difference between each price and max price.\n",
    "\n",
    "* Finally, extract the month from the string dates in the index and store them as an integer in their own series.\n",
    "\n",
    "### Задание 4: Серийные операции\n",
    "\n",
    "* Увеличьте цены в серии цен на нефть на 10 % и добавьте к ним еще 2 доллара за баррель.\n",
    "\n",
    "* Затем создайте серию, представляющую разницу между каждой ценой и максимальной ценой.\n",
    "\n",
    "* Наконец, извлеките месяц из строковых дат в индексе и сохраните их как целое число в их собственной серии."
   ]
  },
  {
   "cell_type": "code",
   "execution_count": 97,
   "id": "ec4304b8",
   "metadata": {},
   "outputs": [
    {
     "data": {
      "text/html": [
       "<div>\n",
       "<style scoped>\n",
       "    .dataframe tbody tr th:only-of-type {\n",
       "        vertical-align: middle;\n",
       "    }\n",
       "\n",
       "    .dataframe tbody tr th {\n",
       "        vertical-align: top;\n",
       "    }\n",
       "\n",
       "    .dataframe thead th {\n",
       "        text-align: right;\n",
       "    }\n",
       "</style>\n",
       "<table border=\"1\" class=\"dataframe\">\n",
       "  <thead>\n",
       "    <tr style=\"text-align: right;\">\n",
       "      <th></th>\n",
       "      <th>date</th>\n",
       "      <th>dcoilwtico</th>\n",
       "    </tr>\n",
       "  </thead>\n",
       "  <tbody>\n",
       "    <tr>\n",
       "      <th>1</th>\n",
       "      <td>2013-01-02</td>\n",
       "      <td>93.14</td>\n",
       "    </tr>\n",
       "    <tr>\n",
       "      <th>2</th>\n",
       "      <td>2013-01-03</td>\n",
       "      <td>92.97</td>\n",
       "    </tr>\n",
       "    <tr>\n",
       "      <th>3</th>\n",
       "      <td>2013-01-04</td>\n",
       "      <td>93.12</td>\n",
       "    </tr>\n",
       "    <tr>\n",
       "      <th>4</th>\n",
       "      <td>2013-01-07</td>\n",
       "      <td>93.20</td>\n",
       "    </tr>\n",
       "    <tr>\n",
       "      <th>5</th>\n",
       "      <td>2013-01-08</td>\n",
       "      <td>93.21</td>\n",
       "    </tr>\n",
       "    <tr>\n",
       "      <th>...</th>\n",
       "      <td>...</td>\n",
       "      <td>...</td>\n",
       "    </tr>\n",
       "    <tr>\n",
       "      <th>1213</th>\n",
       "      <td>2017-08-25</td>\n",
       "      <td>47.65</td>\n",
       "    </tr>\n",
       "    <tr>\n",
       "      <th>1214</th>\n",
       "      <td>2017-08-28</td>\n",
       "      <td>46.40</td>\n",
       "    </tr>\n",
       "    <tr>\n",
       "      <th>1215</th>\n",
       "      <td>2017-08-29</td>\n",
       "      <td>46.46</td>\n",
       "    </tr>\n",
       "    <tr>\n",
       "      <th>1216</th>\n",
       "      <td>2017-08-30</td>\n",
       "      <td>45.96</td>\n",
       "    </tr>\n",
       "    <tr>\n",
       "      <th>1217</th>\n",
       "      <td>2017-08-31</td>\n",
       "      <td>47.26</td>\n",
       "    </tr>\n",
       "  </tbody>\n",
       "</table>\n",
       "<p>1175 rows × 2 columns</p>\n",
       "</div>"
      ],
      "text/plain": [
       "            date  dcoilwtico\n",
       "1     2013-01-02       93.14\n",
       "2     2013-01-03       92.97\n",
       "3     2013-01-04       93.12\n",
       "4     2013-01-07       93.20\n",
       "5     2013-01-08       93.21\n",
       "...          ...         ...\n",
       "1213  2017-08-25       47.65\n",
       "1214  2017-08-28       46.40\n",
       "1215  2017-08-29       46.46\n",
       "1216  2017-08-30       45.96\n",
       "1217  2017-08-31       47.26\n",
       "\n",
       "[1175 rows x 2 columns]"
      ]
     },
     "execution_count": 97,
     "metadata": {},
     "output_type": "execute_result"
    }
   ],
   "source": [
    "oil = pd.read_csv(\"./oil.csv\").dropna()\n",
    "oil"
   ]
  },
  {
   "cell_type": "code",
   "execution_count": 98,
   "id": "66e0a496",
   "metadata": {},
   "outputs": [
    {
     "data": {
      "text/html": [
       "<div>\n",
       "<style scoped>\n",
       "    .dataframe tbody tr th:only-of-type {\n",
       "        vertical-align: middle;\n",
       "    }\n",
       "\n",
       "    .dataframe tbody tr th {\n",
       "        vertical-align: top;\n",
       "    }\n",
       "\n",
       "    .dataframe thead th {\n",
       "        text-align: right;\n",
       "    }\n",
       "</style>\n",
       "<table border=\"1\" class=\"dataframe\">\n",
       "  <thead>\n",
       "    <tr style=\"text-align: right;\">\n",
       "      <th></th>\n",
       "      <th>date</th>\n",
       "      <th>dcoilwtico</th>\n",
       "    </tr>\n",
       "  </thead>\n",
       "  <tbody>\n",
       "    <tr>\n",
       "      <th>1</th>\n",
       "      <td>2013-01-02</td>\n",
       "      <td>104.454</td>\n",
       "    </tr>\n",
       "    <tr>\n",
       "      <th>2</th>\n",
       "      <td>2013-01-03</td>\n",
       "      <td>104.267</td>\n",
       "    </tr>\n",
       "    <tr>\n",
       "      <th>3</th>\n",
       "      <td>2013-01-04</td>\n",
       "      <td>104.432</td>\n",
       "    </tr>\n",
       "    <tr>\n",
       "      <th>4</th>\n",
       "      <td>2013-01-07</td>\n",
       "      <td>104.520</td>\n",
       "    </tr>\n",
       "    <tr>\n",
       "      <th>5</th>\n",
       "      <td>2013-01-08</td>\n",
       "      <td>104.531</td>\n",
       "    </tr>\n",
       "    <tr>\n",
       "      <th>...</th>\n",
       "      <td>...</td>\n",
       "      <td>...</td>\n",
       "    </tr>\n",
       "    <tr>\n",
       "      <th>1213</th>\n",
       "      <td>2017-08-25</td>\n",
       "      <td>54.415</td>\n",
       "    </tr>\n",
       "    <tr>\n",
       "      <th>1214</th>\n",
       "      <td>2017-08-28</td>\n",
       "      <td>53.040</td>\n",
       "    </tr>\n",
       "    <tr>\n",
       "      <th>1215</th>\n",
       "      <td>2017-08-29</td>\n",
       "      <td>53.106</td>\n",
       "    </tr>\n",
       "    <tr>\n",
       "      <th>1216</th>\n",
       "      <td>2017-08-30</td>\n",
       "      <td>52.556</td>\n",
       "    </tr>\n",
       "    <tr>\n",
       "      <th>1217</th>\n",
       "      <td>2017-08-31</td>\n",
       "      <td>53.986</td>\n",
       "    </tr>\n",
       "  </tbody>\n",
       "</table>\n",
       "<p>1175 rows × 2 columns</p>\n",
       "</div>"
      ],
      "text/plain": [
       "            date  dcoilwtico\n",
       "1     2013-01-02     104.454\n",
       "2     2013-01-03     104.267\n",
       "3     2013-01-04     104.432\n",
       "4     2013-01-07     104.520\n",
       "5     2013-01-08     104.531\n",
       "...          ...         ...\n",
       "1213  2017-08-25      54.415\n",
       "1214  2017-08-28      53.040\n",
       "1215  2017-08-29      53.106\n",
       "1216  2017-08-30      52.556\n",
       "1217  2017-08-31      53.986\n",
       "\n",
       "[1175 rows x 2 columns]"
      ]
     },
     "execution_count": 98,
     "metadata": {},
     "output_type": "execute_result"
    }
   ],
   "source": [
    "oil['dcoilwtico'] = oil['dcoilwtico'] * 1.10 + 2\n",
    "oil"
   ]
  },
  {
   "cell_type": "code",
   "execution_count": 102,
   "id": "f6c02613",
   "metadata": {},
   "outputs": [
    {
     "data": {
      "text/html": [
       "<div>\n",
       "<style scoped>\n",
       "    .dataframe tbody tr th:only-of-type {\n",
       "        vertical-align: middle;\n",
       "    }\n",
       "\n",
       "    .dataframe tbody tr th {\n",
       "        vertical-align: top;\n",
       "    }\n",
       "\n",
       "    .dataframe thead th {\n",
       "        text-align: right;\n",
       "    }\n",
       "</style>\n",
       "<table border=\"1\" class=\"dataframe\">\n",
       "  <thead>\n",
       "    <tr style=\"text-align: right;\">\n",
       "      <th></th>\n",
       "      <th>date</th>\n",
       "      <th>dcoilwtico</th>\n",
       "    </tr>\n",
       "  </thead>\n",
       "  <tbody>\n",
       "    <tr>\n",
       "      <th>1</th>\n",
       "      <td>2013-01-02</td>\n",
       "      <td>104.454</td>\n",
       "    </tr>\n",
       "    <tr>\n",
       "      <th>2</th>\n",
       "      <td>2013-01-03</td>\n",
       "      <td>104.267</td>\n",
       "    </tr>\n",
       "    <tr>\n",
       "      <th>3</th>\n",
       "      <td>2013-01-04</td>\n",
       "      <td>104.432</td>\n",
       "    </tr>\n",
       "    <tr>\n",
       "      <th>4</th>\n",
       "      <td>2013-01-07</td>\n",
       "      <td>104.520</td>\n",
       "    </tr>\n",
       "    <tr>\n",
       "      <th>5</th>\n",
       "      <td>2013-01-08</td>\n",
       "      <td>104.531</td>\n",
       "    </tr>\n",
       "    <tr>\n",
       "      <th>...</th>\n",
       "      <td>...</td>\n",
       "      <td>...</td>\n",
       "    </tr>\n",
       "    <tr>\n",
       "      <th>1213</th>\n",
       "      <td>2017-08-25</td>\n",
       "      <td>54.415</td>\n",
       "    </tr>\n",
       "    <tr>\n",
       "      <th>1214</th>\n",
       "      <td>2017-08-28</td>\n",
       "      <td>53.040</td>\n",
       "    </tr>\n",
       "    <tr>\n",
       "      <th>1215</th>\n",
       "      <td>2017-08-29</td>\n",
       "      <td>53.106</td>\n",
       "    </tr>\n",
       "    <tr>\n",
       "      <th>1216</th>\n",
       "      <td>2017-08-30</td>\n",
       "      <td>52.556</td>\n",
       "    </tr>\n",
       "    <tr>\n",
       "      <th>1217</th>\n",
       "      <td>2017-08-31</td>\n",
       "      <td>53.986</td>\n",
       "    </tr>\n",
       "  </tbody>\n",
       "</table>\n",
       "<p>1175 rows × 2 columns</p>\n",
       "</div>"
      ],
      "text/plain": [
       "            date  dcoilwtico\n",
       "1     2013-01-02     104.454\n",
       "2     2013-01-03     104.267\n",
       "3     2013-01-04     104.432\n",
       "4     2013-01-07     104.520\n",
       "5     2013-01-08     104.531\n",
       "...          ...         ...\n",
       "1213  2017-08-25      54.415\n",
       "1214  2017-08-28      53.040\n",
       "1215  2017-08-29      53.106\n",
       "1216  2017-08-30      52.556\n",
       "1217  2017-08-31      53.986\n",
       "\n",
       "[1175 rows x 2 columns]"
      ]
     },
     "execution_count": 102,
     "metadata": {},
     "output_type": "execute_result"
    }
   ],
   "source": [
    "oil"
   ]
  },
  {
   "cell_type": "markdown",
   "id": "4631606e",
   "metadata": {},
   "source": [
    "# Assignment 6: Missing Data\n",
    "There were some erroneous prices in our data, so they were filled in with missing values.\n",
    "Can you confirm the number of missing values in the price column?\n",
    "Once you've done that, fill the prices in with the median of the oil price series."
   ]
  },
  {
   "cell_type": "code",
   "execution_count": 114,
   "id": "f1c2e986",
   "metadata": {},
   "outputs": [
    {
     "data": {
      "text/plain": [
       "date\n",
       "2013-01-02    93.14\n",
       "2013-01-03    92.97\n",
       "2013-01-04    93.12\n",
       "2013-01-07    93.20\n",
       "2013-01-08    93.21\n",
       "              ...  \n",
       "2017-08-25    47.65\n",
       "2017-08-28    46.40\n",
       "2017-08-29    46.46\n",
       "2017-08-30    45.96\n",
       "2017-08-31    47.26\n",
       "Name: dcoilwtico, Length: 1175, dtype: float64"
      ]
     },
     "execution_count": 114,
     "metadata": {},
     "output_type": "execute_result"
    }
   ],
   "source": [
    "oil = pd.read_csv(\"./oil.csv\", parse_dates=['date'], index_col='date').dropna()\n",
    "oil_series = oil['dcoilwtico']\n",
    "oil_series"
   ]
  },
  {
   "cell_type": "code",
   "execution_count": 115,
   "id": "44582ec0",
   "metadata": {},
   "outputs": [
    {
     "ename": "KeyError",
     "evalue": "'correct_column_name'",
     "output_type": "error",
     "traceback": [
      "\u001b[0;31m---------------------------------------------------------------------------\u001b[0m",
      "\u001b[0;31mKeyError\u001b[0m                                  Traceback (most recent call last)",
      "File \u001b[0;32m~/anaconda3/lib/python3.11/site-packages/pandas/core/indexes/base.py:3653\u001b[0m, in \u001b[0;36mIndex.get_loc\u001b[0;34m(self, key)\u001b[0m\n\u001b[1;32m   3652\u001b[0m \u001b[38;5;28;01mtry\u001b[39;00m:\n\u001b[0;32m-> 3653\u001b[0m     \u001b[38;5;28;01mreturn\u001b[39;00m \u001b[38;5;28mself\u001b[39m\u001b[38;5;241m.\u001b[39m_engine\u001b[38;5;241m.\u001b[39mget_loc(casted_key)\n\u001b[1;32m   3654\u001b[0m \u001b[38;5;28;01mexcept\u001b[39;00m \u001b[38;5;167;01mKeyError\u001b[39;00m \u001b[38;5;28;01mas\u001b[39;00m err:\n",
      "File \u001b[0;32m~/anaconda3/lib/python3.11/site-packages/pandas/_libs/index.pyx:147\u001b[0m, in \u001b[0;36mpandas._libs.index.IndexEngine.get_loc\u001b[0;34m()\u001b[0m\n",
      "File \u001b[0;32m~/anaconda3/lib/python3.11/site-packages/pandas/_libs/index.pyx:176\u001b[0m, in \u001b[0;36mpandas._libs.index.IndexEngine.get_loc\u001b[0;34m()\u001b[0m\n",
      "File \u001b[0;32mpandas/_libs/hashtable_class_helper.pxi:7080\u001b[0m, in \u001b[0;36mpandas._libs.hashtable.PyObjectHashTable.get_item\u001b[0;34m()\u001b[0m\n",
      "File \u001b[0;32mpandas/_libs/hashtable_class_helper.pxi:7088\u001b[0m, in \u001b[0;36mpandas._libs.hashtable.PyObjectHashTable.get_item\u001b[0;34m()\u001b[0m\n",
      "\u001b[0;31mKeyError\u001b[0m: 'correct_column_name'",
      "\nThe above exception was the direct cause of the following exception:\n",
      "\u001b[0;31mKeyError\u001b[0m                                  Traceback (most recent call last)",
      "Cell \u001b[0;32mIn[115], line 1\u001b[0m\n\u001b[0;32m----> 1\u001b[0m oil[\u001b[38;5;124m'\u001b[39m\u001b[38;5;124mcorrect_column_name\u001b[39m\u001b[38;5;124m'\u001b[39m]\u001b[38;5;241m.\u001b[39mfillna(oil[\u001b[38;5;124m'\u001b[39m\u001b[38;5;124mcorrect_column_name\u001b[39m\u001b[38;5;124m'\u001b[39m]\u001b[38;5;241m.\u001b[39mmedian(), inplace\u001b[38;5;241m=\u001b[39m\u001b[38;5;28;01mTrue\u001b[39;00m)\n",
      "File \u001b[0;32m~/anaconda3/lib/python3.11/site-packages/pandas/core/frame.py:3761\u001b[0m, in \u001b[0;36mDataFrame.__getitem__\u001b[0;34m(self, key)\u001b[0m\n\u001b[1;32m   3759\u001b[0m \u001b[38;5;28;01mif\u001b[39;00m \u001b[38;5;28mself\u001b[39m\u001b[38;5;241m.\u001b[39mcolumns\u001b[38;5;241m.\u001b[39mnlevels \u001b[38;5;241m>\u001b[39m \u001b[38;5;241m1\u001b[39m:\n\u001b[1;32m   3760\u001b[0m     \u001b[38;5;28;01mreturn\u001b[39;00m \u001b[38;5;28mself\u001b[39m\u001b[38;5;241m.\u001b[39m_getitem_multilevel(key)\n\u001b[0;32m-> 3761\u001b[0m indexer \u001b[38;5;241m=\u001b[39m \u001b[38;5;28mself\u001b[39m\u001b[38;5;241m.\u001b[39mcolumns\u001b[38;5;241m.\u001b[39mget_loc(key)\n\u001b[1;32m   3762\u001b[0m \u001b[38;5;28;01mif\u001b[39;00m is_integer(indexer):\n\u001b[1;32m   3763\u001b[0m     indexer \u001b[38;5;241m=\u001b[39m [indexer]\n",
      "File \u001b[0;32m~/anaconda3/lib/python3.11/site-packages/pandas/core/indexes/base.py:3655\u001b[0m, in \u001b[0;36mIndex.get_loc\u001b[0;34m(self, key)\u001b[0m\n\u001b[1;32m   3653\u001b[0m     \u001b[38;5;28;01mreturn\u001b[39;00m \u001b[38;5;28mself\u001b[39m\u001b[38;5;241m.\u001b[39m_engine\u001b[38;5;241m.\u001b[39mget_loc(casted_key)\n\u001b[1;32m   3654\u001b[0m \u001b[38;5;28;01mexcept\u001b[39;00m \u001b[38;5;167;01mKeyError\u001b[39;00m \u001b[38;5;28;01mas\u001b[39;00m err:\n\u001b[0;32m-> 3655\u001b[0m     \u001b[38;5;28;01mraise\u001b[39;00m \u001b[38;5;167;01mKeyError\u001b[39;00m(key) \u001b[38;5;28;01mfrom\u001b[39;00m \u001b[38;5;21;01merr\u001b[39;00m\n\u001b[1;32m   3656\u001b[0m \u001b[38;5;28;01mexcept\u001b[39;00m \u001b[38;5;167;01mTypeError\u001b[39;00m:\n\u001b[1;32m   3657\u001b[0m     \u001b[38;5;66;03m# If we have a listlike key, _check_indexing_error will raise\u001b[39;00m\n\u001b[1;32m   3658\u001b[0m     \u001b[38;5;66;03m#  InvalidIndexError. Otherwise we fall through and re-raise\u001b[39;00m\n\u001b[1;32m   3659\u001b[0m     \u001b[38;5;66;03m#  the TypeError.\u001b[39;00m\n\u001b[1;32m   3660\u001b[0m     \u001b[38;5;28mself\u001b[39m\u001b[38;5;241m.\u001b[39m_check_indexing_error(key)\n",
      "\u001b[0;31mKeyError\u001b[0m: 'correct_column_name'"
     ]
    }
   ],
   "source": [
    "oil['correct_column_name'].fillna(oil['correct_column_name'].median(), inplace=True)"
   ]
  }
 ],
 "metadata": {
  "kernelspec": {
   "display_name": "Python 3 (ipykernel)",
   "language": "python",
   "name": "python3"
  },
  "language_info": {
   "codemirror_mode": {
    "name": "ipython",
    "version": 3
   },
   "file_extension": ".py",
   "mimetype": "text/x-python",
   "name": "python",
   "nbconvert_exporter": "python",
   "pygments_lexer": "ipython3",
   "version": "3.11.5"
  }
 },
 "nbformat": 4,
 "nbformat_minor": 5
}
